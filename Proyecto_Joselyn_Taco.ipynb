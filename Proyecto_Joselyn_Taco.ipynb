{
  "nbformat": 4,
  "nbformat_minor": 0,
  "metadata": {
    "colab": {
      "name": "Proyecto.ipynb",
      "provenance": []
    },
    "kernelspec": {
      "name": "python3",
      "display_name": "Python 3"
    },
    "language_info": {
      "name": "python"
    }
  },
  "cells": [
    {
      "cell_type": "markdown",
      "metadata": {
        "id": "YM48SKY0Annf"
      },
      "source": [
        "NOMBRE: JOSELYN TACO"
      ]
    },
    {
      "cell_type": "code",
      "metadata": {
        "id": "0xjRnahbaFzb"
      },
      "source": [
        "import numpy as np\n",
        "import pandas as pd\n",
        "import matplotlib.pyplot as plt\n",
        "import seaborn as sns\n",
        "import datetime\n",
        "from sklearn.svm import SVR\n",
        "from sklearn.preprocessing import LabelEncoder\n",
        "from math import sqrt\n",
        "from sklearn.metrics import r2_score\n",
        "\n",
        "from sklearn.metrics import confusion_matrix\n",
        "from sklearn.model_selection import train_test_split, KFold\n",
        "from sklearn.preprocessing import MinMaxScaler\n",
        "from tensorflow.keras.models import Sequential\n",
        "from tensorflow.keras.layers import Dense\n",
        "from sklearn.metrics import mean_absolute_error, mean_squared_error, explained_variance_score, accuracy_score\n",
        "\n",
        "from tensorflow.keras.optimizers import Adam\n",
        "from sklearn.metrics import classification_report\n",
        "\n",
        "from sklearn.preprocessing import StandardScaler\n",
        "from sklearn.decomposition import PCA\n",
        "from sklearn.ensemble import  RandomForestRegressor\n",
        "from sklearn.neighbors import KNeighborsRegressor\n",
        "from sklearn.linear_model import LinearRegression"
      ],
      "execution_count": 90,
      "outputs": []
    },
    {
      "cell_type": "code",
      "metadata": {
        "id": "_ASA0vRJeJiT"
      },
      "source": [
        "data = pd.read_csv(\"SolarPrediction.csv\", sep=\";\")"
      ],
      "execution_count": 2,
      "outputs": []
    },
    {
      "cell_type": "code",
      "metadata": {
        "colab": {
          "base_uri": "https://localhost:8080/",
          "height": 204
        },
        "id": "rVw-d_zweQYL",
        "outputId": "396c4b3a-c887-438f-ff2e-7a0dcc94fd03"
      },
      "source": [
        "data.head()"
      ],
      "execution_count": 3,
      "outputs": [
        {
          "output_type": "execute_result",
          "data": {
            "text/html": [
              "<div>\n",
              "<style scoped>\n",
              "    .dataframe tbody tr th:only-of-type {\n",
              "        vertical-align: middle;\n",
              "    }\n",
              "\n",
              "    .dataframe tbody tr th {\n",
              "        vertical-align: top;\n",
              "    }\n",
              "\n",
              "    .dataframe thead th {\n",
              "        text-align: right;\n",
              "    }\n",
              "</style>\n",
              "<table border=\"1\" class=\"dataframe\">\n",
              "  <thead>\n",
              "    <tr style=\"text-align: right;\">\n",
              "      <th></th>\n",
              "      <th>UNIXTime</th>\n",
              "      <th>Data</th>\n",
              "      <th>Time</th>\n",
              "      <th>Radiation</th>\n",
              "      <th>Temperature</th>\n",
              "      <th>Pressure</th>\n",
              "      <th>Humidity</th>\n",
              "      <th>WindDirection(Degrees)</th>\n",
              "      <th>Speed</th>\n",
              "      <th>TimeSunRise</th>\n",
              "      <th>TimeSunSet</th>\n",
              "    </tr>\n",
              "  </thead>\n",
              "  <tbody>\n",
              "    <tr>\n",
              "      <th>0</th>\n",
              "      <td>1475229326</td>\n",
              "      <td>9/29/2016 12:00:00 AM</td>\n",
              "      <td>23:55:26</td>\n",
              "      <td>1.21</td>\n",
              "      <td>48</td>\n",
              "      <td>30.46</td>\n",
              "      <td>59</td>\n",
              "      <td>177.39</td>\n",
              "      <td>5.62</td>\n",
              "      <td>6:13:00</td>\n",
              "      <td>18:13:00</td>\n",
              "    </tr>\n",
              "    <tr>\n",
              "      <th>1</th>\n",
              "      <td>1475229023</td>\n",
              "      <td>9/29/2016 12:00:00 AM</td>\n",
              "      <td>23:50:23</td>\n",
              "      <td>1.21</td>\n",
              "      <td>48</td>\n",
              "      <td>30.46</td>\n",
              "      <td>58</td>\n",
              "      <td>176.78</td>\n",
              "      <td>3.37</td>\n",
              "      <td>6:13:00</td>\n",
              "      <td>18:13:00</td>\n",
              "    </tr>\n",
              "    <tr>\n",
              "      <th>2</th>\n",
              "      <td>1475228726</td>\n",
              "      <td>9/29/2016 12:00:00 AM</td>\n",
              "      <td>23:45:26</td>\n",
              "      <td>1.23</td>\n",
              "      <td>48</td>\n",
              "      <td>30.46</td>\n",
              "      <td>57</td>\n",
              "      <td>158.75</td>\n",
              "      <td>3.37</td>\n",
              "      <td>6:13:00</td>\n",
              "      <td>18:13:00</td>\n",
              "    </tr>\n",
              "    <tr>\n",
              "      <th>3</th>\n",
              "      <td>1475228421</td>\n",
              "      <td>9/29/2016 12:00:00 AM</td>\n",
              "      <td>23:40:21</td>\n",
              "      <td>1.21</td>\n",
              "      <td>48</td>\n",
              "      <td>30.46</td>\n",
              "      <td>60</td>\n",
              "      <td>137.71</td>\n",
              "      <td>3.37</td>\n",
              "      <td>6:13:00</td>\n",
              "      <td>18:13:00</td>\n",
              "    </tr>\n",
              "    <tr>\n",
              "      <th>4</th>\n",
              "      <td>1475228124</td>\n",
              "      <td>9/29/2016 12:00:00 AM</td>\n",
              "      <td>23:35:24</td>\n",
              "      <td>1.17</td>\n",
              "      <td>48</td>\n",
              "      <td>30.46</td>\n",
              "      <td>62</td>\n",
              "      <td>104.95</td>\n",
              "      <td>5.62</td>\n",
              "      <td>6:13:00</td>\n",
              "      <td>18:13:00</td>\n",
              "    </tr>\n",
              "  </tbody>\n",
              "</table>\n",
              "</div>"
            ],
            "text/plain": [
              "     UNIXTime                   Data      Time  ...  Speed  TimeSunRise  TimeSunSet\n",
              "0  1475229326  9/29/2016 12:00:00 AM  23:55:26  ...   5.62      6:13:00    18:13:00\n",
              "1  1475229023  9/29/2016 12:00:00 AM  23:50:23  ...   3.37      6:13:00    18:13:00\n",
              "2  1475228726  9/29/2016 12:00:00 AM  23:45:26  ...   3.37      6:13:00    18:13:00\n",
              "3  1475228421  9/29/2016 12:00:00 AM  23:40:21  ...   3.37      6:13:00    18:13:00\n",
              "4  1475228124  9/29/2016 12:00:00 AM  23:35:24  ...   5.62      6:13:00    18:13:00\n",
              "\n",
              "[5 rows x 11 columns]"
            ]
          },
          "metadata": {},
          "execution_count": 3
        }
      ]
    },
    {
      "cell_type": "code",
      "metadata": {
        "colab": {
          "base_uri": "https://localhost:8080/"
        },
        "id": "fqnnGp0DfB2y",
        "outputId": "8a256b0d-8fac-4701-cdfc-ea37b120636f"
      },
      "source": [
        "data.info()"
      ],
      "execution_count": 4,
      "outputs": [
        {
          "output_type": "stream",
          "name": "stdout",
          "text": [
            "<class 'pandas.core.frame.DataFrame'>\n",
            "RangeIndex: 32686 entries, 0 to 32685\n",
            "Data columns (total 11 columns):\n",
            " #   Column                  Non-Null Count  Dtype  \n",
            "---  ------                  --------------  -----  \n",
            " 0   UNIXTime                32686 non-null  int64  \n",
            " 1   Data                    32686 non-null  object \n",
            " 2   Time                    32686 non-null  object \n",
            " 3   Radiation               32686 non-null  float64\n",
            " 4   Temperature             32686 non-null  int64  \n",
            " 5   Pressure                32686 non-null  float64\n",
            " 6   Humidity                32686 non-null  int64  \n",
            " 7   WindDirection(Degrees)  32686 non-null  float64\n",
            " 8   Speed                   32686 non-null  float64\n",
            " 9   TimeSunRise             32686 non-null  object \n",
            " 10  TimeSunSet              32686 non-null  object \n",
            "dtypes: float64(4), int64(3), object(4)\n",
            "memory usage: 2.7+ MB\n"
          ]
        }
      ]
    },
    {
      "cell_type": "code",
      "metadata": {
        "colab": {
          "base_uri": "https://localhost:8080/",
          "height": 297
        },
        "id": "fYniG1gofMAy",
        "outputId": "0edda36a-c750-4ad8-9a1e-b4e1723a9ea8"
      },
      "source": [
        "data.describe()"
      ],
      "execution_count": 5,
      "outputs": [
        {
          "output_type": "execute_result",
          "data": {
            "text/html": [
              "<div>\n",
              "<style scoped>\n",
              "    .dataframe tbody tr th:only-of-type {\n",
              "        vertical-align: middle;\n",
              "    }\n",
              "\n",
              "    .dataframe tbody tr th {\n",
              "        vertical-align: top;\n",
              "    }\n",
              "\n",
              "    .dataframe thead th {\n",
              "        text-align: right;\n",
              "    }\n",
              "</style>\n",
              "<table border=\"1\" class=\"dataframe\">\n",
              "  <thead>\n",
              "    <tr style=\"text-align: right;\">\n",
              "      <th></th>\n",
              "      <th>UNIXTime</th>\n",
              "      <th>Radiation</th>\n",
              "      <th>Temperature</th>\n",
              "      <th>Pressure</th>\n",
              "      <th>Humidity</th>\n",
              "      <th>WindDirection(Degrees)</th>\n",
              "      <th>Speed</th>\n",
              "    </tr>\n",
              "  </thead>\n",
              "  <tbody>\n",
              "    <tr>\n",
              "      <th>count</th>\n",
              "      <td>3.268600e+04</td>\n",
              "      <td>32686.000000</td>\n",
              "      <td>32686.000000</td>\n",
              "      <td>32686.000000</td>\n",
              "      <td>32686.000000</td>\n",
              "      <td>32686.000000</td>\n",
              "      <td>32686.000000</td>\n",
              "    </tr>\n",
              "    <tr>\n",
              "      <th>mean</th>\n",
              "      <td>1.478047e+09</td>\n",
              "      <td>207.124697</td>\n",
              "      <td>51.103255</td>\n",
              "      <td>30.422879</td>\n",
              "      <td>75.016307</td>\n",
              "      <td>143.489821</td>\n",
              "      <td>6.243869</td>\n",
              "    </tr>\n",
              "    <tr>\n",
              "      <th>std</th>\n",
              "      <td>3.005037e+06</td>\n",
              "      <td>315.916387</td>\n",
              "      <td>6.201157</td>\n",
              "      <td>0.054673</td>\n",
              "      <td>25.990219</td>\n",
              "      <td>83.167500</td>\n",
              "      <td>3.490474</td>\n",
              "    </tr>\n",
              "    <tr>\n",
              "      <th>min</th>\n",
              "      <td>1.472724e+09</td>\n",
              "      <td>1.110000</td>\n",
              "      <td>34.000000</td>\n",
              "      <td>30.190000</td>\n",
              "      <td>8.000000</td>\n",
              "      <td>0.090000</td>\n",
              "      <td>0.000000</td>\n",
              "    </tr>\n",
              "    <tr>\n",
              "      <th>25%</th>\n",
              "      <td>1.475546e+09</td>\n",
              "      <td>1.230000</td>\n",
              "      <td>46.000000</td>\n",
              "      <td>30.400000</td>\n",
              "      <td>56.000000</td>\n",
              "      <td>82.227500</td>\n",
              "      <td>3.370000</td>\n",
              "    </tr>\n",
              "    <tr>\n",
              "      <th>50%</th>\n",
              "      <td>1.478026e+09</td>\n",
              "      <td>2.660000</td>\n",
              "      <td>50.000000</td>\n",
              "      <td>30.430000</td>\n",
              "      <td>85.000000</td>\n",
              "      <td>147.700000</td>\n",
              "      <td>5.620000</td>\n",
              "    </tr>\n",
              "    <tr>\n",
              "      <th>75%</th>\n",
              "      <td>1.480480e+09</td>\n",
              "      <td>354.235000</td>\n",
              "      <td>55.000000</td>\n",
              "      <td>30.460000</td>\n",
              "      <td>97.000000</td>\n",
              "      <td>179.310000</td>\n",
              "      <td>7.870000</td>\n",
              "    </tr>\n",
              "    <tr>\n",
              "      <th>max</th>\n",
              "      <td>1.483265e+09</td>\n",
              "      <td>1601.260000</td>\n",
              "      <td>71.000000</td>\n",
              "      <td>30.560000</td>\n",
              "      <td>103.000000</td>\n",
              "      <td>359.950000</td>\n",
              "      <td>40.500000</td>\n",
              "    </tr>\n",
              "  </tbody>\n",
              "</table>\n",
              "</div>"
            ],
            "text/plain": [
              "           UNIXTime     Radiation  ...  WindDirection(Degrees)         Speed\n",
              "count  3.268600e+04  32686.000000  ...            32686.000000  32686.000000\n",
              "mean   1.478047e+09    207.124697  ...              143.489821      6.243869\n",
              "std    3.005037e+06    315.916387  ...               83.167500      3.490474\n",
              "min    1.472724e+09      1.110000  ...                0.090000      0.000000\n",
              "25%    1.475546e+09      1.230000  ...               82.227500      3.370000\n",
              "50%    1.478026e+09      2.660000  ...              147.700000      5.620000\n",
              "75%    1.480480e+09    354.235000  ...              179.310000      7.870000\n",
              "max    1.483265e+09   1601.260000  ...              359.950000     40.500000\n",
              "\n",
              "[8 rows x 7 columns]"
            ]
          },
          "metadata": {},
          "execution_count": 5
        }
      ]
    },
    {
      "cell_type": "code",
      "metadata": {
        "colab": {
          "base_uri": "https://localhost:8080/",
          "height": 1000
        },
        "id": "ki2kWF95fX-m",
        "outputId": "9ff0acff-3a63-45ee-c0a1-569ead1389c9"
      },
      "source": [
        "data.hist(figsize=(15,15))"
      ],
      "execution_count": 6,
      "outputs": [
        {
          "output_type": "execute_result",
          "data": {
            "text/plain": [
              "array([[<matplotlib.axes._subplots.AxesSubplot object at 0x7f3d70434cd0>,\n",
              "        <matplotlib.axes._subplots.AxesSubplot object at 0x7f3d7040b210>,\n",
              "        <matplotlib.axes._subplots.AxesSubplot object at 0x7f3d703c4890>],\n",
              "       [<matplotlib.axes._subplots.AxesSubplot object at 0x7f3d7037af10>,\n",
              "        <matplotlib.axes._subplots.AxesSubplot object at 0x7f3d7033b5d0>,\n",
              "        <matplotlib.axes._subplots.AxesSubplot object at 0x7f3d702efc50>],\n",
              "       [<matplotlib.axes._subplots.AxesSubplot object at 0x7f3d702b3310>,\n",
              "        <matplotlib.axes._subplots.AxesSubplot object at 0x7f3d702e6990>,\n",
              "        <matplotlib.axes._subplots.AxesSubplot object at 0x7f3d70271bd0>]],\n",
              "      dtype=object)"
            ]
          },
          "metadata": {},
          "execution_count": 6
        },
        {
          "output_type": "display_data",
          "data": {
            "image/png": "[encoded data removed]",
            "text/plain": [
              "<Figure size 1080x1080 with 9 Axes>"
            ]
          },
          "metadata": {
            "needs_background": "light"
          }
        }
      ]
    },
    {
      "cell_type": "code",
      "metadata": {
        "colab": {
          "base_uri": "https://localhost:8080/"
        },
        "id": "iL59K4sDfm9h",
        "outputId": "904d69f5-b106-42bc-d88a-7964b1cce561"
      },
      "source": [
        "data.isnull().sum()"
      ],
      "execution_count": 7,
      "outputs": [
        {
          "output_type": "execute_result",
          "data": {
            "text/plain": [
              "UNIXTime                  0\n",
              "Data                      0\n",
              "Time                      0\n",
              "Radiation                 0\n",
              "Temperature               0\n",
              "Pressure                  0\n",
              "Humidity                  0\n",
              "WindDirection(Degrees)    0\n",
              "Speed                     0\n",
              "TimeSunRise               0\n",
              "TimeSunSet                0\n",
              "dtype: int64"
            ]
          },
          "metadata": {},
          "execution_count": 7
        }
      ]
    },
    {
      "cell_type": "markdown",
      "metadata": {
        "id": "NoUYwlp40F4U"
      },
      "source": [
        "**PEARSON**"
      ]
    },
    {
      "cell_type": "code",
      "metadata": {
        "colab": {
          "base_uri": "https://localhost:8080/",
          "height": 863
        },
        "id": "d4blbCCVfxah",
        "outputId": "85fbf0b0-25bc-4ea1-d1ac-ce909c3221ee"
      },
      "source": [
        "sns.set(style= \"whitegrid\", font_scale = 1)\n",
        "plt. figure(figsize=(15,15))\n",
        "plt.title('Pearson', fontsize=15)\n",
        "sns.heatmap(data.corr(), vmax=0.85, square=True, cmap='GnBu',linecolor='b', annot=True, annot_kws={'size':9})"
      ],
      "execution_count": 8,
      "outputs": [
        {
          "output_type": "execute_result",
          "data": {
            "text/plain": [
              "<matplotlib.axes._subplots.AxesSubplot at 0x7f3d6ffe65d0>"
            ]
          },
          "metadata": {},
          "execution_count": 8
        },
        {
          "output_type": "display_data",
          "data": {
            "image/png": "[encoded data removed]",
            "text/plain": [
              "<Figure size 1080x1080 with 2 Axes>"
            ]
          },
          "metadata": {}
        }
      ]
    },
    {
      "cell_type": "markdown",
      "metadata": {
        "id": "UVqDOzr20dDK"
      },
      "source": [
        "Tratamiento de datos de tiempo\n"
      ]
    },
    {
      "cell_type": "code",
      "metadata": {
        "id": "MmT6GnAEYzVh"
      },
      "source": [
        "data_aux = data"
      ],
      "execution_count": 9,
      "outputs": []
    },
    {
      "cell_type": "code",
      "metadata": {
        "colab": {
          "base_uri": "https://localhost:8080/",
          "height": 419
        },
        "id": "ouQzGv0Yb8kc",
        "outputId": "677a4586-57d3-45c1-c206-2ffeebe15f5b"
      },
      "source": [
        "data_aux"
      ],
      "execution_count": 10,
      "outputs": [
        {
          "output_type": "execute_result",
          "data": {
            "text/html": [
              "<div>\n",
              "<style scoped>\n",
              "    .dataframe tbody tr th:only-of-type {\n",
              "        vertical-align: middle;\n",
              "    }\n",
              "\n",
              "    .dataframe tbody tr th {\n",
              "        vertical-align: top;\n",
              "    }\n",
              "\n",
              "    .dataframe thead th {\n",
              "        text-align: right;\n",
              "    }\n",
              "</style>\n",
              "<table border=\"1\" class=\"dataframe\">\n",
              "  <thead>\n",
              "    <tr style=\"text-align: right;\">\n",
              "      <th></th>\n",
              "      <th>UNIXTime</th>\n",
              "      <th>Data</th>\n",
              "      <th>Time</th>\n",
              "      <th>Radiation</th>\n",
              "      <th>Temperature</th>\n",
              "      <th>Pressure</th>\n",
              "      <th>Humidity</th>\n",
              "      <th>WindDirection(Degrees)</th>\n",
              "      <th>Speed</th>\n",
              "      <th>TimeSunRise</th>\n",
              "      <th>TimeSunSet</th>\n",
              "    </tr>\n",
              "  </thead>\n",
              "  <tbody>\n",
              "    <tr>\n",
              "      <th>0</th>\n",
              "      <td>1475229326</td>\n",
              "      <td>9/29/2016 12:00:00 AM</td>\n",
              "      <td>23:55:26</td>\n",
              "      <td>1.21</td>\n",
              "      <td>48</td>\n",
              "      <td>30.46</td>\n",
              "      <td>59</td>\n",
              "      <td>177.39</td>\n",
              "      <td>5.62</td>\n",
              "      <td>6:13:00</td>\n",
              "      <td>18:13:00</td>\n",
              "    </tr>\n",
              "    <tr>\n",
              "      <th>1</th>\n",
              "      <td>1475229023</td>\n",
              "      <td>9/29/2016 12:00:00 AM</td>\n",
              "      <td>23:50:23</td>\n",
              "      <td>1.21</td>\n",
              "      <td>48</td>\n",
              "      <td>30.46</td>\n",
              "      <td>58</td>\n",
              "      <td>176.78</td>\n",
              "      <td>3.37</td>\n",
              "      <td>6:13:00</td>\n",
              "      <td>18:13:00</td>\n",
              "    </tr>\n",
              "    <tr>\n",
              "      <th>2</th>\n",
              "      <td>1475228726</td>\n",
              "      <td>9/29/2016 12:00:00 AM</td>\n",
              "      <td>23:45:26</td>\n",
              "      <td>1.23</td>\n",
              "      <td>48</td>\n",
              "      <td>30.46</td>\n",
              "      <td>57</td>\n",
              "      <td>158.75</td>\n",
              "      <td>3.37</td>\n",
              "      <td>6:13:00</td>\n",
              "      <td>18:13:00</td>\n",
              "    </tr>\n",
              "    <tr>\n",
              "      <th>3</th>\n",
              "      <td>1475228421</td>\n",
              "      <td>9/29/2016 12:00:00 AM</td>\n",
              "      <td>23:40:21</td>\n",
              "      <td>1.21</td>\n",
              "      <td>48</td>\n",
              "      <td>30.46</td>\n",
              "      <td>60</td>\n",
              "      <td>137.71</td>\n",
              "      <td>3.37</td>\n",
              "      <td>6:13:00</td>\n",
              "      <td>18:13:00</td>\n",
              "    </tr>\n",
              "    <tr>\n",
              "      <th>4</th>\n",
              "      <td>1475228124</td>\n",
              "      <td>9/29/2016 12:00:00 AM</td>\n",
              "      <td>23:35:24</td>\n",
              "      <td>1.17</td>\n",
              "      <td>48</td>\n",
              "      <td>30.46</td>\n",
              "      <td>62</td>\n",
              "      <td>104.95</td>\n",
              "      <td>5.62</td>\n",
              "      <td>6:13:00</td>\n",
              "      <td>18:13:00</td>\n",
              "    </tr>\n",
              "    <tr>\n",
              "      <th>...</th>\n",
              "      <td>...</td>\n",
              "      <td>...</td>\n",
              "      <td>...</td>\n",
              "      <td>...</td>\n",
              "      <td>...</td>\n",
              "      <td>...</td>\n",
              "      <td>...</td>\n",
              "      <td>...</td>\n",
              "      <td>...</td>\n",
              "      <td>...</td>\n",
              "      <td>...</td>\n",
              "    </tr>\n",
              "    <tr>\n",
              "      <th>32681</th>\n",
              "      <td>1480587604</td>\n",
              "      <td>12/01/2016 0:00</td>\n",
              "      <td>0:20:04</td>\n",
              "      <td>1.22</td>\n",
              "      <td>44</td>\n",
              "      <td>30.43</td>\n",
              "      <td>102</td>\n",
              "      <td>145.42</td>\n",
              "      <td>6.75</td>\n",
              "      <td>6:41:00</td>\n",
              "      <td>17:42:00</td>\n",
              "    </tr>\n",
              "    <tr>\n",
              "      <th>32682</th>\n",
              "      <td>1480587301</td>\n",
              "      <td>12/01/2016 0:00</td>\n",
              "      <td>0:15:01</td>\n",
              "      <td>1.17</td>\n",
              "      <td>44</td>\n",
              "      <td>30.42</td>\n",
              "      <td>102</td>\n",
              "      <td>117.78</td>\n",
              "      <td>6.75</td>\n",
              "      <td>6:41:00</td>\n",
              "      <td>17:42:00</td>\n",
              "    </tr>\n",
              "    <tr>\n",
              "      <th>32683</th>\n",
              "      <td>1480587001</td>\n",
              "      <td>12/01/2016 0:00</td>\n",
              "      <td>0:10:01</td>\n",
              "      <td>1.20</td>\n",
              "      <td>44</td>\n",
              "      <td>30.42</td>\n",
              "      <td>102</td>\n",
              "      <td>145.19</td>\n",
              "      <td>9.00</td>\n",
              "      <td>6:41:00</td>\n",
              "      <td>17:42:00</td>\n",
              "    </tr>\n",
              "    <tr>\n",
              "      <th>32684</th>\n",
              "      <td>1480586702</td>\n",
              "      <td>12/01/2016 0:00</td>\n",
              "      <td>0:05:02</td>\n",
              "      <td>1.23</td>\n",
              "      <td>44</td>\n",
              "      <td>30.42</td>\n",
              "      <td>101</td>\n",
              "      <td>164.19</td>\n",
              "      <td>7.87</td>\n",
              "      <td>6:41:00</td>\n",
              "      <td>17:42:00</td>\n",
              "    </tr>\n",
              "    <tr>\n",
              "      <th>32685</th>\n",
              "      <td>1480586402</td>\n",
              "      <td>12/01/2016 0:00</td>\n",
              "      <td>0:00:02</td>\n",
              "      <td>1.20</td>\n",
              "      <td>44</td>\n",
              "      <td>30.43</td>\n",
              "      <td>101</td>\n",
              "      <td>83.59</td>\n",
              "      <td>3.37</td>\n",
              "      <td>6:41:00</td>\n",
              "      <td>17:42:00</td>\n",
              "    </tr>\n",
              "  </tbody>\n",
              "</table>\n",
              "<p>32686 rows × 11 columns</p>\n",
              "</div>"
            ],
            "text/plain": [
              "         UNIXTime                   Data  ... TimeSunRise  TimeSunSet\n",
              "0      1475229326  9/29/2016 12:00:00 AM  ...     6:13:00    18:13:00\n",
              "1      1475229023  9/29/2016 12:00:00 AM  ...     6:13:00    18:13:00\n",
              "2      1475228726  9/29/2016 12:00:00 AM  ...     6:13:00    18:13:00\n",
              "3      1475228421  9/29/2016 12:00:00 AM  ...     6:13:00    18:13:00\n",
              "4      1475228124  9/29/2016 12:00:00 AM  ...     6:13:00    18:13:00\n",
              "...           ...                    ...  ...         ...         ...\n",
              "32681  1480587604        12/01/2016 0:00  ...     6:41:00    17:42:00\n",
              "32682  1480587301        12/01/2016 0:00  ...     6:41:00    17:42:00\n",
              "32683  1480587001        12/01/2016 0:00  ...     6:41:00    17:42:00\n",
              "32684  1480586702        12/01/2016 0:00  ...     6:41:00    17:42:00\n",
              "32685  1480586402        12/01/2016 0:00  ...     6:41:00    17:42:00\n",
              "\n",
              "[32686 rows x 11 columns]"
            ]
          },
          "metadata": {},
          "execution_count": 10
        }
      ]
    },
    {
      "cell_type": "markdown",
      "metadata": {
        "id": "jRZYC-EeuoY8"
      },
      "source": [
        "UNIXTime"
      ]
    },
    {
      "cell_type": "code",
      "metadata": {
        "id": "dVHbbZiB0cBc"
      },
      "source": [
        "datetime_utc = data_aux['UNIXTime'].apply(datetime.datetime.utcfromtimestamp)"
      ],
      "execution_count": 11,
      "outputs": []
    },
    {
      "cell_type": "code",
      "metadata": {
        "id": "2Se-vfREdUo_",
        "colab": {
          "base_uri": "https://localhost:8080/"
        },
        "outputId": "c0a8c6ab-d1ab-4fc7-b224-53b877b63ea7"
      },
      "source": [
        "datetime_utc"
      ],
      "execution_count": 12,
      "outputs": [
        {
          "output_type": "execute_result",
          "data": {
            "text/plain": [
              "0       2016-09-30 09:55:26\n",
              "1       2016-09-30 09:50:23\n",
              "2       2016-09-30 09:45:26\n",
              "3       2016-09-30 09:40:21\n",
              "4       2016-09-30 09:35:24\n",
              "                ...        \n",
              "32681   2016-12-01 10:20:04\n",
              "32682   2016-12-01 10:15:01\n",
              "32683   2016-12-01 10:10:01\n",
              "32684   2016-12-01 10:05:02\n",
              "32685   2016-12-01 10:00:02\n",
              "Name: UNIXTime, Length: 32686, dtype: datetime64[ns]"
            ]
          },
          "metadata": {},
          "execution_count": 12
        }
      ]
    },
    {
      "cell_type": "markdown",
      "metadata": {
        "id": "HPvohEGDurul"
      },
      "source": [
        "Data"
      ]
    },
    {
      "cell_type": "code",
      "metadata": {
        "colab": {
          "base_uri": "https://localhost:8080/"
        },
        "id": "lQYsRE9rVv0z",
        "outputId": "df157b7f-28f0-4388-ab49-870c87fb308e"
      },
      "source": [
        "fecha = data_aux['Data']\n",
        "fecha"
      ],
      "execution_count": 13,
      "outputs": [
        {
          "output_type": "execute_result",
          "data": {
            "text/plain": [
              "0        9/29/2016 12:00:00 AM\n",
              "1        9/29/2016 12:00:00 AM\n",
              "2        9/29/2016 12:00:00 AM\n",
              "3        9/29/2016 12:00:00 AM\n",
              "4        9/29/2016 12:00:00 AM\n",
              "                 ...          \n",
              "32681          12/01/2016 0:00\n",
              "32682          12/01/2016 0:00\n",
              "32683          12/01/2016 0:00\n",
              "32684          12/01/2016 0:00\n",
              "32685          12/01/2016 0:00\n",
              "Name: Data, Length: 32686, dtype: object"
            ]
          },
          "metadata": {},
          "execution_count": 13
        }
      ]
    },
    {
      "cell_type": "code",
      "metadata": {
        "colab": {
          "base_uri": "https://localhost:8080/"
        },
        "id": "M0akk5dxyQb6",
        "outputId": "31b3f57c-1fbe-4e08-a6c0-a3c9ca409cd0"
      },
      "source": [
        "data_aux['mes'] = pd.to_datetime(data_aux['Data']).apply(lambda date:date.month)\n",
        "data_aux['mes']"
      ],
      "execution_count": 14,
      "outputs": [
        {
          "output_type": "execute_result",
          "data": {
            "text/plain": [
              "0         9\n",
              "1         9\n",
              "2         9\n",
              "3         9\n",
              "4         9\n",
              "         ..\n",
              "32681    12\n",
              "32682    12\n",
              "32683    12\n",
              "32684    12\n",
              "32685    12\n",
              "Name: mes, Length: 32686, dtype: int64"
            ]
          },
          "metadata": {},
          "execution_count": 14
        }
      ]
    },
    {
      "cell_type": "code",
      "metadata": {
        "colab": {
          "base_uri": "https://localhost:8080/",
          "height": 289
        },
        "id": "Pcl7e9jb1TrP",
        "outputId": "600225f4-0b93-4f8b-c86a-b7907f4a7d14"
      },
      "source": [
        "ax = plt.axes()\n",
        "sns.barplot(x=\"mes\", y='Radiation', data=data_aux, ax = ax)\n",
        "plt.show()"
      ],
      "execution_count": 15,
      "outputs": [
        {
          "output_type": "display_data",
          "data": {
            "image/png": "[encoded data removed]",
            "text/plain": [
              "<Figure size 432x288 with 1 Axes>"
            ]
          },
          "metadata": {}
        }
      ]
    },
    {
      "cell_type": "markdown",
      "metadata": {
        "id": "TrmmDiIsuwSC"
      },
      "source": [
        "Time"
      ]
    },
    {
      "cell_type": "code",
      "metadata": {
        "colab": {
          "base_uri": "https://localhost:8080/"
        },
        "id": "Fh1Myi1lV58T",
        "outputId": "5f05a39a-feb7-45b4-cbf6-79926906f7f6"
      },
      "source": [
        "tiempo= data_aux['Time']\n",
        "tiempo"
      ],
      "execution_count": 16,
      "outputs": [
        {
          "output_type": "execute_result",
          "data": {
            "text/plain": [
              "0        23:55:26\n",
              "1        23:50:23\n",
              "2        23:45:26\n",
              "3        23:40:21\n",
              "4        23:35:24\n",
              "           ...   \n",
              "32681     0:20:04\n",
              "32682     0:15:01\n",
              "32683     0:10:01\n",
              "32684     0:05:02\n",
              "32685     0:00:02\n",
              "Name: Time, Length: 32686, dtype: object"
            ]
          },
          "metadata": {},
          "execution_count": 16
        }
      ]
    },
    {
      "cell_type": "code",
      "metadata": {
        "id": "biN1cbX40HOZ",
        "colab": {
          "base_uri": "https://localhost:8080/"
        },
        "outputId": "49152d95-95dc-4b00-bc8b-512ac4157729"
      },
      "source": [
        "data_aux['hora'] = pd.to_datetime(data_aux['Time']).dt.hour\n",
        "data_aux['hora']"
      ],
      "execution_count": 17,
      "outputs": [
        {
          "output_type": "execute_result",
          "data": {
            "text/plain": [
              "0        23\n",
              "1        23\n",
              "2        23\n",
              "3        23\n",
              "4        23\n",
              "         ..\n",
              "32681     0\n",
              "32682     0\n",
              "32683     0\n",
              "32684     0\n",
              "32685     0\n",
              "Name: hora, Length: 32686, dtype: int64"
            ]
          },
          "metadata": {},
          "execution_count": 17
        }
      ]
    },
    {
      "cell_type": "code",
      "metadata": {
        "colab": {
          "base_uri": "https://localhost:8080/",
          "height": 285
        },
        "id": "-Rds7AVk0vYK",
        "outputId": "19933357-6e0e-4a2e-c79c-72bb552a5efb"
      },
      "source": [
        "ax = plt.axes()\n",
        "sns.barplot(x=\"hora\", y='Radiation', data=data_aux, ax = ax)\n",
        "plt.show()"
      ],
      "execution_count": 18,
      "outputs": [
        {
          "output_type": "display_data",
          "data": {
            "image/png": "[encoded data removed]",
            "text/plain": [
              "<Figure size 432x288 with 1 Axes>"
            ]
          },
          "metadata": {}
        }
      ]
    },
    {
      "cell_type": "markdown",
      "metadata": {
        "id": "gOvsdIDpu96r"
      },
      "source": [
        "TimeSunRise"
      ]
    },
    {
      "cell_type": "code",
      "metadata": {
        "colab": {
          "base_uri": "https://localhost:8080/"
        },
        "id": "iDaWAz5-vIDp",
        "outputId": "c2e7a251-08d6-4482-ad19-13f4d86eab6f"
      },
      "source": [
        "timeSunRiseHour = pd.to_datetime(data_aux['TimeSunRise']).dt.hour\n",
        "timeSunRisemin = pd.to_datetime(data_aux['TimeSunRise']).dt.minute\n",
        "timeSunRiseminutes = (timeSunRiseHour*60)+timeSunRisemin\n",
        "timeSunRiseminutes"
      ],
      "execution_count": 19,
      "outputs": [
        {
          "output_type": "execute_result",
          "data": {
            "text/plain": [
              "0        373\n",
              "1        373\n",
              "2        373\n",
              "3        373\n",
              "4        373\n",
              "        ... \n",
              "32681    401\n",
              "32682    401\n",
              "32683    401\n",
              "32684    401\n",
              "32685    401\n",
              "Name: TimeSunRise, Length: 32686, dtype: int64"
            ]
          },
          "metadata": {},
          "execution_count": 19
        }
      ]
    },
    {
      "cell_type": "markdown",
      "metadata": {
        "id": "pVSZskcdvCjj"
      },
      "source": [
        "TimeSunSet"
      ]
    },
    {
      "cell_type": "code",
      "metadata": {
        "colab": {
          "base_uri": "https://localhost:8080/"
        },
        "id": "C-A6wwlxvRD3",
        "outputId": "581a06ad-4612-4197-9a7a-7e5d50e36ec9"
      },
      "source": [
        "timeSunSetHour = pd.to_datetime(data['TimeSunSet']).dt.hour\n",
        "timeSunSetmin = pd.to_datetime(data['TimeSunSet']).dt.minute\n",
        "timeSunSetminutes = (timeSunSetHour*60)+timeSunSetmin\n",
        "timeSunSetminutes"
      ],
      "execution_count": 20,
      "outputs": [
        {
          "output_type": "execute_result",
          "data": {
            "text/plain": [
              "0        1093\n",
              "1        1093\n",
              "2        1093\n",
              "3        1093\n",
              "4        1093\n",
              "         ... \n",
              "32681    1062\n",
              "32682    1062\n",
              "32683    1062\n",
              "32684    1062\n",
              "32685    1062\n",
              "Name: TimeSunSet, Length: 32686, dtype: int64"
            ]
          },
          "metadata": {},
          "execution_count": 20
        }
      ]
    },
    {
      "cell_type": "code",
      "metadata": {
        "colab": {
          "base_uri": "https://localhost:8080/"
        },
        "id": "AKuoOpTdBeH7",
        "outputId": "33e13e7f-4c37-454f-a502-4a5f10ebaed2"
      },
      "source": [
        "data_aux['diferencia'] = timeSunSetminutes - timeSunRiseminutes\n",
        "data_aux['diferencia']"
      ],
      "execution_count": 21,
      "outputs": [
        {
          "output_type": "execute_result",
          "data": {
            "text/plain": [
              "0        720\n",
              "1        720\n",
              "2        720\n",
              "3        720\n",
              "4        720\n",
              "        ... \n",
              "32681    661\n",
              "32682    661\n",
              "32683    661\n",
              "32684    661\n",
              "32685    661\n",
              "Name: diferencia, Length: 32686, dtype: int64"
            ]
          },
          "metadata": {},
          "execution_count": 21
        }
      ]
    },
    {
      "cell_type": "code",
      "metadata": {
        "colab": {
          "base_uri": "https://localhost:8080/",
          "height": 285
        },
        "id": "KOz3yqeXEjjo",
        "outputId": "a3758a0f-4d50-4e7c-c111-899e18db8a73"
      },
      "source": [
        "ax = plt.axes()\n",
        "sns.barplot(x=\"diferencia\", y='Temperature', data=data_aux, ax = ax)\n",
        "plt.show()"
      ],
      "execution_count": 22,
      "outputs": [
        {
          "output_type": "display_data",
          "data": {
            "image/png": "[encoded data removed]",
            "text/plain": [
              "<Figure size 432x288 with 1 Axes>"
            ]
          },
          "metadata": {}
        }
      ]
    },
    {
      "cell_type": "markdown",
      "metadata": {
        "id": "xDwfgyixvPFZ"
      },
      "source": [
        "Nuevo Analisis"
      ]
    },
    {
      "cell_type": "code",
      "metadata": {
        "id": "OwCRgpvGeSdO"
      },
      "source": [
        "data_aux = data_aux.drop(['UNIXTime','Data','Time','TimeSunRise','TimeSunSet'], axis=1)"
      ],
      "execution_count": 23,
      "outputs": []
    },
    {
      "cell_type": "code",
      "metadata": {
        "colab": {
          "base_uri": "https://localhost:8080/"
        },
        "id": "ED-1YOhS2fgS",
        "outputId": "03396d56-19b0-47f8-b874-11714c488a6e"
      },
      "source": [
        "data_aux.info()"
      ],
      "execution_count": 24,
      "outputs": [
        {
          "output_type": "stream",
          "name": "stdout",
          "text": [
            "<class 'pandas.core.frame.DataFrame'>\n",
            "RangeIndex: 32686 entries, 0 to 32685\n",
            "Data columns (total 9 columns):\n",
            " #   Column                  Non-Null Count  Dtype  \n",
            "---  ------                  --------------  -----  \n",
            " 0   Radiation               32686 non-null  float64\n",
            " 1   Temperature             32686 non-null  int64  \n",
            " 2   Pressure                32686 non-null  float64\n",
            " 3   Humidity                32686 non-null  int64  \n",
            " 4   WindDirection(Degrees)  32686 non-null  float64\n",
            " 5   Speed                   32686 non-null  float64\n",
            " 6   mes                     32686 non-null  int64  \n",
            " 7   hora                    32686 non-null  int64  \n",
            " 8   diferencia              32686 non-null  int64  \n",
            "dtypes: float64(4), int64(5)\n",
            "memory usage: 2.2 MB\n"
          ]
        }
      ]
    },
    {
      "cell_type": "code",
      "metadata": {
        "colab": {
          "base_uri": "https://localhost:8080/",
          "height": 204
        },
        "id": "6Ho63FTGyeEu",
        "outputId": "6c4175c1-92ba-41e8-f642-3460eeec1727"
      },
      "source": [
        "data_aux.head()"
      ],
      "execution_count": 25,
      "outputs": [
        {
          "output_type": "execute_result",
          "data": {
            "text/html": [
              "<div>\n",
              "<style scoped>\n",
              "    .dataframe tbody tr th:only-of-type {\n",
              "        vertical-align: middle;\n",
              "    }\n",
              "\n",
              "    .dataframe tbody tr th {\n",
              "        vertical-align: top;\n",
              "    }\n",
              "\n",
              "    .dataframe thead th {\n",
              "        text-align: right;\n",
              "    }\n",
              "</style>\n",
              "<table border=\"1\" class=\"dataframe\">\n",
              "  <thead>\n",
              "    <tr style=\"text-align: right;\">\n",
              "      <th></th>\n",
              "      <th>Radiation</th>\n",
              "      <th>Temperature</th>\n",
              "      <th>Pressure</th>\n",
              "      <th>Humidity</th>\n",
              "      <th>WindDirection(Degrees)</th>\n",
              "      <th>Speed</th>\n",
              "      <th>mes</th>\n",
              "      <th>hora</th>\n",
              "      <th>diferencia</th>\n",
              "    </tr>\n",
              "  </thead>\n",
              "  <tbody>\n",
              "    <tr>\n",
              "      <th>0</th>\n",
              "      <td>1.21</td>\n",
              "      <td>48</td>\n",
              "      <td>30.46</td>\n",
              "      <td>59</td>\n",
              "      <td>177.39</td>\n",
              "      <td>5.62</td>\n",
              "      <td>9</td>\n",
              "      <td>23</td>\n",
              "      <td>720</td>\n",
              "    </tr>\n",
              "    <tr>\n",
              "      <th>1</th>\n",
              "      <td>1.21</td>\n",
              "      <td>48</td>\n",
              "      <td>30.46</td>\n",
              "      <td>58</td>\n",
              "      <td>176.78</td>\n",
              "      <td>3.37</td>\n",
              "      <td>9</td>\n",
              "      <td>23</td>\n",
              "      <td>720</td>\n",
              "    </tr>\n",
              "    <tr>\n",
              "      <th>2</th>\n",
              "      <td>1.23</td>\n",
              "      <td>48</td>\n",
              "      <td>30.46</td>\n",
              "      <td>57</td>\n",
              "      <td>158.75</td>\n",
              "      <td>3.37</td>\n",
              "      <td>9</td>\n",
              "      <td>23</td>\n",
              "      <td>720</td>\n",
              "    </tr>\n",
              "    <tr>\n",
              "      <th>3</th>\n",
              "      <td>1.21</td>\n",
              "      <td>48</td>\n",
              "      <td>30.46</td>\n",
              "      <td>60</td>\n",
              "      <td>137.71</td>\n",
              "      <td>3.37</td>\n",
              "      <td>9</td>\n",
              "      <td>23</td>\n",
              "      <td>720</td>\n",
              "    </tr>\n",
              "    <tr>\n",
              "      <th>4</th>\n",
              "      <td>1.17</td>\n",
              "      <td>48</td>\n",
              "      <td>30.46</td>\n",
              "      <td>62</td>\n",
              "      <td>104.95</td>\n",
              "      <td>5.62</td>\n",
              "      <td>9</td>\n",
              "      <td>23</td>\n",
              "      <td>720</td>\n",
              "    </tr>\n",
              "  </tbody>\n",
              "</table>\n",
              "</div>"
            ],
            "text/plain": [
              "   Radiation  Temperature  Pressure  Humidity  ...  Speed  mes  hora  diferencia\n",
              "0       1.21           48     30.46        59  ...   5.62    9    23         720\n",
              "1       1.21           48     30.46        58  ...   3.37    9    23         720\n",
              "2       1.23           48     30.46        57  ...   3.37    9    23         720\n",
              "3       1.21           48     30.46        60  ...   3.37    9    23         720\n",
              "4       1.17           48     30.46        62  ...   5.62    9    23         720\n",
              "\n",
              "[5 rows x 9 columns]"
            ]
          },
          "metadata": {},
          "execution_count": 25
        }
      ]
    },
    {
      "cell_type": "code",
      "metadata": {
        "colab": {
          "base_uri": "https://localhost:8080/",
          "height": 297
        },
        "id": "rbASl-Vh2alQ",
        "outputId": "d15d7e63-115d-4601-fff4-053b0510a95c"
      },
      "source": [
        "data_aux.describe()"
      ],
      "execution_count": 27,
      "outputs": [
        {
          "output_type": "execute_result",
          "data": {
            "text/html": [
              "<div>\n",
              "<style scoped>\n",
              "    .dataframe tbody tr th:only-of-type {\n",
              "        vertical-align: middle;\n",
              "    }\n",
              "\n",
              "    .dataframe tbody tr th {\n",
              "        vertical-align: top;\n",
              "    }\n",
              "\n",
              "    .dataframe thead th {\n",
              "        text-align: right;\n",
              "    }\n",
              "</style>\n",
              "<table border=\"1\" class=\"dataframe\">\n",
              "  <thead>\n",
              "    <tr style=\"text-align: right;\">\n",
              "      <th></th>\n",
              "      <th>Radiation</th>\n",
              "      <th>Temperature</th>\n",
              "      <th>Pressure</th>\n",
              "      <th>Humidity</th>\n",
              "      <th>WindDirection(Degrees)</th>\n",
              "      <th>Speed</th>\n",
              "      <th>mes</th>\n",
              "      <th>hora</th>\n",
              "      <th>diferencia</th>\n",
              "    </tr>\n",
              "  </thead>\n",
              "  <tbody>\n",
              "    <tr>\n",
              "      <th>count</th>\n",
              "      <td>32686.000000</td>\n",
              "      <td>32686.000000</td>\n",
              "      <td>32686.000000</td>\n",
              "      <td>32686.000000</td>\n",
              "      <td>32686.000000</td>\n",
              "      <td>32686.000000</td>\n",
              "      <td>32686.000000</td>\n",
              "      <td>32686.000000</td>\n",
              "      <td>32686.000000</td>\n",
              "    </tr>\n",
              "    <tr>\n",
              "      <th>mean</th>\n",
              "      <td>207.124697</td>\n",
              "      <td>51.103255</td>\n",
              "      <td>30.422879</td>\n",
              "      <td>75.016307</td>\n",
              "      <td>143.489821</td>\n",
              "      <td>6.243869</td>\n",
              "      <td>10.526066</td>\n",
              "      <td>11.557425</td>\n",
              "      <td>690.550542</td>\n",
              "    </tr>\n",
              "    <tr>\n",
              "      <th>std</th>\n",
              "      <td>315.916387</td>\n",
              "      <td>6.201157</td>\n",
              "      <td>0.054673</td>\n",
              "      <td>25.990219</td>\n",
              "      <td>83.167500</td>\n",
              "      <td>3.490474</td>\n",
              "      <td>1.096691</td>\n",
              "      <td>6.912034</td>\n",
              "      <td>29.931225</td>\n",
              "    </tr>\n",
              "    <tr>\n",
              "      <th>min</th>\n",
              "      <td>1.110000</td>\n",
              "      <td>34.000000</td>\n",
              "      <td>30.190000</td>\n",
              "      <td>8.000000</td>\n",
              "      <td>0.090000</td>\n",
              "      <td>0.000000</td>\n",
              "      <td>9.000000</td>\n",
              "      <td>0.000000</td>\n",
              "      <td>656.000000</td>\n",
              "    </tr>\n",
              "    <tr>\n",
              "      <th>25%</th>\n",
              "      <td>1.230000</td>\n",
              "      <td>46.000000</td>\n",
              "      <td>30.400000</td>\n",
              "      <td>56.000000</td>\n",
              "      <td>82.227500</td>\n",
              "      <td>3.370000</td>\n",
              "      <td>10.000000</td>\n",
              "      <td>6.000000</td>\n",
              "      <td>662.000000</td>\n",
              "    </tr>\n",
              "    <tr>\n",
              "      <th>50%</th>\n",
              "      <td>2.660000</td>\n",
              "      <td>50.000000</td>\n",
              "      <td>30.430000</td>\n",
              "      <td>85.000000</td>\n",
              "      <td>147.700000</td>\n",
              "      <td>5.620000</td>\n",
              "      <td>11.000000</td>\n",
              "      <td>12.000000</td>\n",
              "      <td>684.000000</td>\n",
              "    </tr>\n",
              "    <tr>\n",
              "      <th>75%</th>\n",
              "      <td>354.235000</td>\n",
              "      <td>55.000000</td>\n",
              "      <td>30.460000</td>\n",
              "      <td>97.000000</td>\n",
              "      <td>179.310000</td>\n",
              "      <td>7.870000</td>\n",
              "      <td>11.000000</td>\n",
              "      <td>18.000000</td>\n",
              "      <td>715.000000</td>\n",
              "    </tr>\n",
              "    <tr>\n",
              "      <th>max</th>\n",
              "      <td>1601.260000</td>\n",
              "      <td>71.000000</td>\n",
              "      <td>30.560000</td>\n",
              "      <td>103.000000</td>\n",
              "      <td>359.950000</td>\n",
              "      <td>40.500000</td>\n",
              "      <td>12.000000</td>\n",
              "      <td>23.000000</td>\n",
              "      <td>751.000000</td>\n",
              "    </tr>\n",
              "  </tbody>\n",
              "</table>\n",
              "</div>"
            ],
            "text/plain": [
              "          Radiation   Temperature  ...          hora    diferencia\n",
              "count  32686.000000  32686.000000  ...  32686.000000  32686.000000\n",
              "mean     207.124697     51.103255  ...     11.557425    690.550542\n",
              "std      315.916387      6.201157  ...      6.912034     29.931225\n",
              "min        1.110000     34.000000  ...      0.000000    656.000000\n",
              "25%        1.230000     46.000000  ...      6.000000    662.000000\n",
              "50%        2.660000     50.000000  ...     12.000000    684.000000\n",
              "75%      354.235000     55.000000  ...     18.000000    715.000000\n",
              "max     1601.260000     71.000000  ...     23.000000    751.000000\n",
              "\n",
              "[8 rows x 9 columns]"
            ]
          },
          "metadata": {},
          "execution_count": 27
        }
      ]
    },
    {
      "cell_type": "code",
      "metadata": {
        "colab": {
          "base_uri": "https://localhost:8080/",
          "height": 1000
        },
        "id": "7KP-Vlk42_6Q",
        "outputId": "4e4f805b-1b7f-4c00-c43d-2349b2adca01"
      },
      "source": [
        "data_aux.hist(figsize=(15,15))"
      ],
      "execution_count": 28,
      "outputs": [
        {
          "output_type": "execute_result",
          "data": {
            "text/plain": [
              "array([[<matplotlib.axes._subplots.AxesSubplot object at 0x7f3d675253d0>,\n",
              "        <matplotlib.axes._subplots.AxesSubplot object at 0x7f3d66217b10>,\n",
              "        <matplotlib.axes._subplots.AxesSubplot object at 0x7f3d661ea090>],\n",
              "       [<matplotlib.axes._subplots.AxesSubplot object at 0x7f3d6619f610>,\n",
              "        <matplotlib.axes._subplots.AxesSubplot object at 0x7f3d661d4b90>,\n",
              "        <matplotlib.axes._subplots.AxesSubplot object at 0x7f3d66119150>],\n",
              "       [<matplotlib.axes._subplots.AxesSubplot object at 0x7f3d6614e6d0>,\n",
              "        <matplotlib.axes._subplots.AxesSubplot object at 0x7f3d66101c50>,\n",
              "        <matplotlib.axes._subplots.AxesSubplot object at 0x7f3d6610fe90>]],\n",
              "      dtype=object)"
            ]
          },
          "metadata": {},
          "execution_count": 28
        },
        {
          "output_type": "display_data",
          "data": {
            "image/png": "[encoded data removed]",
            "text/plain": [
              "<Figure size 1080x1080 with 9 Axes>"
            ]
          },
          "metadata": {}
        }
      ]
    },
    {
      "cell_type": "code",
      "metadata": {
        "colab": {
          "base_uri": "https://localhost:8080/",
          "height": 933
        },
        "id": "esQ78n2A247x",
        "outputId": "f3cdb51c-27af-4ccf-8577-83e171a4d121"
      },
      "source": [
        "sns.set(style= \"whitegrid\", font_scale = 1)\n",
        "plt. figure(figsize=(15,15))\n",
        "plt.title('Pearson', fontsize=15)\n",
        "sns.heatmap(data_aux.corr(), vmax=0.85, square=True, cmap='GnBu',linecolor='b', annot=True, annot_kws={'size':9})"
      ],
      "execution_count": 29,
      "outputs": [
        {
          "output_type": "execute_result",
          "data": {
            "text/plain": [
              "<matplotlib.axes._subplots.AxesSubplot at 0x7f3d65fbed10>"
            ]
          },
          "metadata": {},
          "execution_count": 29
        },
        {
          "output_type": "display_data",
          "data": {
            "image/png": "[encoded data removed]",
            "text/plain": [
              "<Figure size 1080x1080 with 2 Axes>"
            ]
          },
          "metadata": {}
        }
      ]
    },
    {
      "cell_type": "markdown",
      "metadata": {
        "id": "AyhxY6moMkD2"
      },
      "source": [
        "Separacion en X y Y"
      ]
    },
    {
      "cell_type": "code",
      "metadata": {
        "id": "4WA3DCOlSIs3"
      },
      "source": [
        "x = data_aux"
      ],
      "execution_count": 155,
      "outputs": []
    },
    {
      "cell_type": "code",
      "metadata": {
        "id": "4wqy9SfG5Z3t"
      },
      "source": [
        "x = x.drop(['Radiation'], axis = 1)"
      ],
      "execution_count": 156,
      "outputs": []
    },
    {
      "cell_type": "code",
      "metadata": {
        "colab": {
          "base_uri": "https://localhost:8080/",
          "height": 419
        },
        "id": "jv8KPlp_1oSb",
        "outputId": "9a750126-8ec2-46ab-919f-28da78d05e04"
      },
      "source": [
        "x"
      ],
      "execution_count": 158,
      "outputs": [
        {
          "output_type": "execute_result",
          "data": {
            "text/html": [
              "<div>\n",
              "<style scoped>\n",
              "    .dataframe tbody tr th:only-of-type {\n",
              "        vertical-align: middle;\n",
              "    }\n",
              "\n",
              "    .dataframe tbody tr th {\n",
              "        vertical-align: top;\n",
              "    }\n",
              "\n",
              "    .dataframe thead th {\n",
              "        text-align: right;\n",
              "    }\n",
              "</style>\n",
              "<table border=\"1\" class=\"dataframe\">\n",
              "  <thead>\n",
              "    <tr style=\"text-align: right;\">\n",
              "      <th></th>\n",
              "      <th>Temperature</th>\n",
              "      <th>Pressure</th>\n",
              "      <th>Humidity</th>\n",
              "      <th>WindDirection(Degrees)</th>\n",
              "      <th>Speed</th>\n",
              "      <th>mes</th>\n",
              "      <th>hora</th>\n",
              "      <th>diferencia</th>\n",
              "    </tr>\n",
              "  </thead>\n",
              "  <tbody>\n",
              "    <tr>\n",
              "      <th>0</th>\n",
              "      <td>48</td>\n",
              "      <td>30.46</td>\n",
              "      <td>59</td>\n",
              "      <td>177.39</td>\n",
              "      <td>5.62</td>\n",
              "      <td>9</td>\n",
              "      <td>23</td>\n",
              "      <td>720</td>\n",
              "    </tr>\n",
              "    <tr>\n",
              "      <th>1</th>\n",
              "      <td>48</td>\n",
              "      <td>30.46</td>\n",
              "      <td>58</td>\n",
              "      <td>176.78</td>\n",
              "      <td>3.37</td>\n",
              "      <td>9</td>\n",
              "      <td>23</td>\n",
              "      <td>720</td>\n",
              "    </tr>\n",
              "    <tr>\n",
              "      <th>2</th>\n",
              "      <td>48</td>\n",
              "      <td>30.46</td>\n",
              "      <td>57</td>\n",
              "      <td>158.75</td>\n",
              "      <td>3.37</td>\n",
              "      <td>9</td>\n",
              "      <td>23</td>\n",
              "      <td>720</td>\n",
              "    </tr>\n",
              "    <tr>\n",
              "      <th>3</th>\n",
              "      <td>48</td>\n",
              "      <td>30.46</td>\n",
              "      <td>60</td>\n",
              "      <td>137.71</td>\n",
              "      <td>3.37</td>\n",
              "      <td>9</td>\n",
              "      <td>23</td>\n",
              "      <td>720</td>\n",
              "    </tr>\n",
              "    <tr>\n",
              "      <th>4</th>\n",
              "      <td>48</td>\n",
              "      <td>30.46</td>\n",
              "      <td>62</td>\n",
              "      <td>104.95</td>\n",
              "      <td>5.62</td>\n",
              "      <td>9</td>\n",
              "      <td>23</td>\n",
              "      <td>720</td>\n",
              "    </tr>\n",
              "    <tr>\n",
              "      <th>...</th>\n",
              "      <td>...</td>\n",
              "      <td>...</td>\n",
              "      <td>...</td>\n",
              "      <td>...</td>\n",
              "      <td>...</td>\n",
              "      <td>...</td>\n",
              "      <td>...</td>\n",
              "      <td>...</td>\n",
              "    </tr>\n",
              "    <tr>\n",
              "      <th>32681</th>\n",
              "      <td>44</td>\n",
              "      <td>30.43</td>\n",
              "      <td>102</td>\n",
              "      <td>145.42</td>\n",
              "      <td>6.75</td>\n",
              "      <td>12</td>\n",
              "      <td>0</td>\n",
              "      <td>661</td>\n",
              "    </tr>\n",
              "    <tr>\n",
              "      <th>32682</th>\n",
              "      <td>44</td>\n",
              "      <td>30.42</td>\n",
              "      <td>102</td>\n",
              "      <td>117.78</td>\n",
              "      <td>6.75</td>\n",
              "      <td>12</td>\n",
              "      <td>0</td>\n",
              "      <td>661</td>\n",
              "    </tr>\n",
              "    <tr>\n",
              "      <th>32683</th>\n",
              "      <td>44</td>\n",
              "      <td>30.42</td>\n",
              "      <td>102</td>\n",
              "      <td>145.19</td>\n",
              "      <td>9.00</td>\n",
              "      <td>12</td>\n",
              "      <td>0</td>\n",
              "      <td>661</td>\n",
              "    </tr>\n",
              "    <tr>\n",
              "      <th>32684</th>\n",
              "      <td>44</td>\n",
              "      <td>30.42</td>\n",
              "      <td>101</td>\n",
              "      <td>164.19</td>\n",
              "      <td>7.87</td>\n",
              "      <td>12</td>\n",
              "      <td>0</td>\n",
              "      <td>661</td>\n",
              "    </tr>\n",
              "    <tr>\n",
              "      <th>32685</th>\n",
              "      <td>44</td>\n",
              "      <td>30.43</td>\n",
              "      <td>101</td>\n",
              "      <td>83.59</td>\n",
              "      <td>3.37</td>\n",
              "      <td>12</td>\n",
              "      <td>0</td>\n",
              "      <td>661</td>\n",
              "    </tr>\n",
              "  </tbody>\n",
              "</table>\n",
              "<p>32686 rows × 8 columns</p>\n",
              "</div>"
            ],
            "text/plain": [
              "       Temperature  Pressure  Humidity  ...  mes  hora  diferencia\n",
              "0               48     30.46        59  ...    9    23         720\n",
              "1               48     30.46        58  ...    9    23         720\n",
              "2               48     30.46        57  ...    9    23         720\n",
              "3               48     30.46        60  ...    9    23         720\n",
              "4               48     30.46        62  ...    9    23         720\n",
              "...            ...       ...       ...  ...  ...   ...         ...\n",
              "32681           44     30.43       102  ...   12     0         661\n",
              "32682           44     30.42       102  ...   12     0         661\n",
              "32683           44     30.42       102  ...   12     0         661\n",
              "32684           44     30.42       101  ...   12     0         661\n",
              "32685           44     30.43       101  ...   12     0         661\n",
              "\n",
              "[32686 rows x 8 columns]"
            ]
          },
          "metadata": {},
          "execution_count": 158
        }
      ]
    },
    {
      "cell_type": "code",
      "metadata": {
        "id": "lN4kzlL0eW3d",
        "colab": {
          "base_uri": "https://localhost:8080/"
        },
        "outputId": "c234a963-ed48-43ff-fbdb-183120f7a70d"
      },
      "source": [
        "y = data_aux.Radiation\n",
        "y"
      ],
      "execution_count": 159,
      "outputs": [
        {
          "output_type": "execute_result",
          "data": {
            "text/plain": [
              "0        1.21\n",
              "1        1.21\n",
              "2        1.23\n",
              "3        1.21\n",
              "4        1.17\n",
              "         ... \n",
              "32681    1.22\n",
              "32682    1.17\n",
              "32683    1.20\n",
              "32684    1.23\n",
              "32685    1.20\n",
              "Name: Radiation, Length: 32686, dtype: float64"
            ]
          },
          "metadata": {},
          "execution_count": 159
        }
      ]
    },
    {
      "cell_type": "markdown",
      "metadata": {
        "id": "hjf_EExJ6YVe"
      },
      "source": [
        "MODELOS"
      ]
    },
    {
      "cell_type": "code",
      "metadata": {
        "id": "6JLINaEwai7X"
      },
      "source": [
        "scaler = MinMaxScaler()\n",
        "x = scaler.fit_transform(x)"
      ],
      "execution_count": 113,
      "outputs": []
    },
    {
      "cell_type": "code",
      "metadata": {
        "id": "y5ffB4-tlwnd"
      },
      "source": [
        "Resultados_train = []\n",
        "Resultados_test = []\n",
        "Resultados_train_mae = []\n",
        "Resultados_test_mae = []"
      ],
      "execution_count": 160,
      "outputs": []
    },
    {
      "cell_type": "code",
      "metadata": {
        "id": "SnpiNcK3qK0n"
      },
      "source": [
        "x_train, x_test, y_train, y_test = train_test_split(x,y,test_size = 0.3, random_state = 20)"
      ],
      "execution_count": 161,
      "outputs": []
    },
    {
      "cell_type": "markdown",
      "metadata": {
        "id": "_e0zmbE7YD2h"
      },
      "source": [
        "REGRESION LOGISTICA"
      ]
    },
    {
      "cell_type": "code",
      "metadata": {
        "id": "Fep4_E60YDOs"
      },
      "source": [
        "lr = LinearRegression()"
      ],
      "execution_count": 162,
      "outputs": []
    },
    {
      "cell_type": "code",
      "metadata": {
        "colab": {
          "base_uri": "https://localhost:8080/"
        },
        "id": "AkT-lCbIZkpQ",
        "outputId": "00e99a77-ef11-4d37-aa89-45db2376610f"
      },
      "source": [
        "lr.fit(x_train,y_train)"
      ],
      "execution_count": 163,
      "outputs": [
        {
          "output_type": "execute_result",
          "data": {
            "text/plain": [
              "LinearRegression(copy_X=True, fit_intercept=True, n_jobs=None, normalize=False)"
            ]
          },
          "metadata": {},
          "execution_count": 163
        }
      ]
    },
    {
      "cell_type": "markdown",
      "metadata": {
        "id": "pZnrWuXOmqWO"
      },
      "source": [
        "Train"
      ]
    },
    {
      "cell_type": "code",
      "metadata": {
        "colab": {
          "base_uri": "https://localhost:8080/"
        },
        "id": "cctEJUHCmqWe",
        "outputId": "9cbf8c87-8207-4230-f5cf-837a28b3db94"
      },
      "source": [
        "y_pred_train = lr.predict(x_train)\n",
        "Resultados_train.append(r2_score(y_train, lr.predict(x_train)))\n",
        "Resultados_train_mae.append(mean_absolute_error(y_train, lr.predict(x_train)))\n",
        "print(r2_score(y_train, y_pred_train))\n",
        "print(mean_absolute_error(y_train, y_pred_train))"
      ],
      "execution_count": 164,
      "outputs": [
        {
          "output_type": "stream",
          "name": "stdout",
          "text": [
            "0.6213790489445539\n",
            "147.0372711970728\n"
          ]
        }
      ]
    },
    {
      "cell_type": "markdown",
      "metadata": {
        "id": "k0nFpbRjmqWf"
      },
      "source": [
        "Test"
      ]
    },
    {
      "cell_type": "code",
      "metadata": {
        "colab": {
          "base_uri": "https://localhost:8080/"
        },
        "id": "TQ7ozPttmqWf",
        "outputId": "771eca8f-5486-4d62-c906-b4c9fd7cc765"
      },
      "source": [
        "y_pred_test = lr.predict(x_test)\n",
        "Resultados_test.append(r2_score(y_test, lr.predict(x_test)))\n",
        "Resultados_test_mae.append(mean_absolute_error(y_test, lr.predict(x_test)))\n",
        "print(r2_score(y_test, y_pred_test))\n",
        "print(mean_absolute_error(y_test, y_pred_test))"
      ],
      "execution_count": 165,
      "outputs": [
        {
          "output_type": "stream",
          "name": "stdout",
          "text": [
            "0.6222514579652544\n",
            "148.47660435538674\n"
          ]
        }
      ]
    },
    {
      "cell_type": "markdown",
      "metadata": {
        "id": "44O-C2Gq9Sjo"
      },
      "source": [
        "ANN"
      ]
    },
    {
      "cell_type": "code",
      "metadata": {
        "id": "VOulHR0JqgPn"
      },
      "source": [
        "model = Sequential()\n",
        "#capa entrada\n",
        "model.add(Dense(7, activation= 'relu'))\n",
        "#capas ocultas\n",
        "model.add(Dense(5, activation= 'relu'))\n",
        "model.add(Dense(1, activation= 'relu'))\n",
        "\n",
        "model.compile(optimizer= 'adam', loss = 'mse')"
      ],
      "execution_count": 166,
      "outputs": []
    },
    {
      "cell_type": "code",
      "metadata": {
        "id": "W8bOmyDEu_8f",
        "colab": {
          "base_uri": "https://localhost:8080/"
        },
        "outputId": "d1a962b5-1bac-4f20-cc3b-5226077a7bdb"
      },
      "source": [
        "model.fit(x = x_train, y = y_train.values, validation_data=(x_test,y_test.values), batch_size=60,epochs=150,verbose=1)"
      ],
      "execution_count": 167,
      "outputs": [
        {
          "output_type": "stream",
          "name": "stdout",
          "text": [
            "Epoch 1/150\n",
            "382/382 [==============================] - 2s 2ms/step - loss: 103611.5703 - val_loss: 95135.4609\n",
            "Epoch 2/150\n",
            "382/382 [==============================] - 1s 2ms/step - loss: 92203.8516 - val_loss: 91096.2891\n",
            "Epoch 3/150\n",
            "382/382 [==============================] - 1s 2ms/step - loss: 86963.6172 - val_loss: 82480.9062\n",
            "Epoch 4/150\n",
            "382/382 [==============================] - 1s 2ms/step - loss: 77555.2188 - val_loss: 74050.3281\n",
            "Epoch 5/150\n",
            "382/382 [==============================] - 1s 2ms/step - loss: 70371.6172 - val_loss: 68292.6797\n",
            "Epoch 6/150\n",
            "382/382 [==============================] - 1s 2ms/step - loss: 65619.8984 - val_loss: 64667.8672\n",
            "Epoch 7/150\n",
            "382/382 [==============================] - 1s 2ms/step - loss: 62176.5938 - val_loss: 61635.3164\n",
            "Epoch 8/150\n",
            "382/382 [==============================] - 1s 2ms/step - loss: 59412.8789 - val_loss: 59043.9688\n",
            "Epoch 9/150\n",
            "382/382 [==============================] - 1s 2ms/step - loss: 57817.6328 - val_loss: 58284.7773\n",
            "Epoch 10/150\n",
            "382/382 [==============================] - 1s 2ms/step - loss: 56763.2383 - val_loss: 56742.3750\n",
            "Epoch 11/150\n",
            "382/382 [==============================] - 1s 2ms/step - loss: 55750.5781 - val_loss: 55895.9922\n",
            "Epoch 12/150\n",
            "382/382 [==============================] - 1s 2ms/step - loss: 54737.0742 - val_loss: 54751.4375\n",
            "Epoch 13/150\n",
            "382/382 [==============================] - 1s 2ms/step - loss: 53729.5117 - val_loss: 53772.8359\n",
            "Epoch 14/150\n",
            "382/382 [==============================] - 1s 2ms/step - loss: 52836.5586 - val_loss: 52743.2305\n",
            "Epoch 15/150\n",
            "382/382 [==============================] - 1s 2ms/step - loss: 51854.8203 - val_loss: 51747.6328\n",
            "Epoch 16/150\n",
            "382/382 [==============================] - 1s 2ms/step - loss: 50906.5508 - val_loss: 50845.9531\n",
            "Epoch 17/150\n",
            "382/382 [==============================] - 1s 2ms/step - loss: 50042.0039 - val_loss: 49764.8398\n",
            "Epoch 18/150\n",
            "382/382 [==============================] - 1s 2ms/step - loss: 48985.2031 - val_loss: 48741.9453\n",
            "Epoch 19/150\n",
            "382/382 [==============================] - 1s 2ms/step - loss: 47986.6289 - val_loss: 47884.4258\n",
            "Epoch 20/150\n",
            "382/382 [==============================] - 1s 2ms/step - loss: 46910.6875 - val_loss: 46545.5352\n",
            "Epoch 21/150\n",
            "382/382 [==============================] - 1s 2ms/step - loss: 45660.0547 - val_loss: 45249.8047\n",
            "Epoch 22/150\n",
            "382/382 [==============================] - 1s 2ms/step - loss: 44410.0859 - val_loss: 43852.3789\n",
            "Epoch 23/150\n",
            "382/382 [==============================] - 1s 2ms/step - loss: 42943.6094 - val_loss: 42384.1875\n",
            "Epoch 24/150\n",
            "382/382 [==============================] - 1s 2ms/step - loss: 41582.1523 - val_loss: 40919.4062\n",
            "Epoch 25/150\n",
            "382/382 [==============================] - 1s 2ms/step - loss: 40043.3359 - val_loss: 39532.1094\n",
            "Epoch 26/150\n",
            "382/382 [==============================] - 1s 2ms/step - loss: 38734.2344 - val_loss: 38139.5000\n",
            "Epoch 27/150\n",
            "382/382 [==============================] - 1s 2ms/step - loss: 37452.5664 - val_loss: 36896.4336\n",
            "Epoch 28/150\n",
            "382/382 [==============================] - 1s 2ms/step - loss: 36314.7383 - val_loss: 35902.8320\n",
            "Epoch 29/150\n",
            "382/382 [==============================] - 1s 2ms/step - loss: 35428.2227 - val_loss: 35771.4219\n",
            "Epoch 30/150\n",
            "382/382 [==============================] - 1s 2ms/step - loss: 34631.2695 - val_loss: 34519.8477\n",
            "Epoch 31/150\n",
            "382/382 [==============================] - 1s 2ms/step - loss: 33855.5859 - val_loss: 33854.7773\n",
            "Epoch 32/150\n",
            "382/382 [==============================] - 1s 2ms/step - loss: 33374.1328 - val_loss: 33575.9023\n",
            "Epoch 33/150\n",
            "382/382 [==============================] - 1s 2ms/step - loss: 32926.7148 - val_loss: 33960.0586\n",
            "Epoch 34/150\n",
            "382/382 [==============================] - 1s 2ms/step - loss: 32675.2500 - val_loss: 32487.7070\n",
            "Epoch 35/150\n",
            "382/382 [==============================] - 1s 2ms/step - loss: 32414.8613 - val_loss: 32331.5391\n",
            "Epoch 36/150\n",
            "382/382 [==============================] - 1s 2ms/step - loss: 32101.7422 - val_loss: 32307.7910\n",
            "Epoch 37/150\n",
            "382/382 [==============================] - 1s 2ms/step - loss: 32038.3086 - val_loss: 32480.8281\n",
            "Epoch 38/150\n",
            "382/382 [==============================] - 1s 2ms/step - loss: 31816.9395 - val_loss: 31807.3477\n",
            "Epoch 39/150\n",
            "382/382 [==============================] - 1s 2ms/step - loss: 31586.3711 - val_loss: 31922.1504\n",
            "Epoch 40/150\n",
            "382/382 [==============================] - 1s 2ms/step - loss: 31572.1953 - val_loss: 31683.6328\n",
            "Epoch 41/150\n",
            "382/382 [==============================] - 1s 2ms/step - loss: 31518.9766 - val_loss: 31655.1562\n",
            "Epoch 42/150\n",
            "382/382 [==============================] - 1s 2ms/step - loss: 31408.6426 - val_loss: 32456.2754\n",
            "Epoch 43/150\n",
            "382/382 [==============================] - 1s 2ms/step - loss: 31417.4629 - val_loss: 31860.8594\n",
            "Epoch 44/150\n",
            "382/382 [==============================] - 1s 2ms/step - loss: 31239.3535 - val_loss: 31376.9336\n",
            "Epoch 45/150\n",
            "382/382 [==============================] - 1s 2ms/step - loss: 31177.7949 - val_loss: 31328.3750\n",
            "Epoch 46/150\n",
            "382/382 [==============================] - 1s 2ms/step - loss: 31214.1895 - val_loss: 33505.8438\n",
            "Epoch 47/150\n",
            "382/382 [==============================] - 1s 2ms/step - loss: 31095.8574 - val_loss: 31818.4395\n",
            "Epoch 48/150\n",
            "382/382 [==============================] - 1s 2ms/step - loss: 30987.7734 - val_loss: 31952.8223\n",
            "Epoch 49/150\n",
            "382/382 [==============================] - 1s 2ms/step - loss: 31031.6953 - val_loss: 31968.0684\n",
            "Epoch 50/150\n",
            "382/382 [==============================] - 1s 2ms/step - loss: 30867.2031 - val_loss: 31662.0312\n",
            "Epoch 51/150\n",
            "382/382 [==============================] - 1s 2ms/step - loss: 30983.5410 - val_loss: 31298.3789\n",
            "Epoch 52/150\n",
            "382/382 [==============================] - 1s 2ms/step - loss: 30941.8145 - val_loss: 31352.1289\n",
            "Epoch 53/150\n",
            "382/382 [==============================] - 1s 2ms/step - loss: 31010.5820 - val_loss: 31875.9980\n",
            "Epoch 54/150\n",
            "382/382 [==============================] - 1s 2ms/step - loss: 30832.3281 - val_loss: 33009.8320\n",
            "Epoch 55/150\n",
            "382/382 [==============================] - 1s 2ms/step - loss: 30821.3809 - val_loss: 31804.5020\n",
            "Epoch 56/150\n",
            "382/382 [==============================] - 1s 2ms/step - loss: 30769.4629 - val_loss: 31230.7070\n",
            "Epoch 57/150\n",
            "382/382 [==============================] - 1s 2ms/step - loss: 30824.5371 - val_loss: 31554.0879\n",
            "Epoch 58/150\n",
            "382/382 [==============================] - 1s 2ms/step - loss: 30739.1328 - val_loss: 31068.5273\n",
            "Epoch 59/150\n",
            "382/382 [==============================] - 1s 2ms/step - loss: 30767.3906 - val_loss: 31147.8945\n",
            "Epoch 60/150\n",
            "382/382 [==============================] - 1s 2ms/step - loss: 30651.7285 - val_loss: 31032.1133\n",
            "Epoch 61/150\n",
            "382/382 [==============================] - 1s 2ms/step - loss: 30754.5938 - val_loss: 31044.1289\n",
            "Epoch 62/150\n",
            "382/382 [==============================] - 1s 2ms/step - loss: 30664.4082 - val_loss: 31484.3965\n",
            "Epoch 63/150\n",
            "382/382 [==============================] - 1s 2ms/step - loss: 30696.0508 - val_loss: 30961.4746\n",
            "Epoch 64/150\n",
            "382/382 [==============================] - 1s 2ms/step - loss: 30630.6426 - val_loss: 30971.4414\n",
            "Epoch 65/150\n",
            "382/382 [==============================] - 1s 2ms/step - loss: 30625.4297 - val_loss: 31362.2910\n",
            "Epoch 66/150\n",
            "382/382 [==============================] - 1s 2ms/step - loss: 30664.2891 - val_loss: 30973.7715\n",
            "Epoch 67/150\n",
            "382/382 [==============================] - 1s 2ms/step - loss: 30614.3574 - val_loss: 30997.2500\n",
            "Epoch 68/150\n",
            "382/382 [==============================] - 1s 2ms/step - loss: 30625.8398 - val_loss: 30944.0586\n",
            "Epoch 69/150\n",
            "382/382 [==============================] - 1s 2ms/step - loss: 30609.2988 - val_loss: 30914.1562\n",
            "Epoch 70/150\n",
            "382/382 [==============================] - 1s 2ms/step - loss: 30706.1445 - val_loss: 31520.7773\n",
            "Epoch 71/150\n",
            "382/382 [==============================] - 1s 2ms/step - loss: 30611.0664 - val_loss: 31723.3457\n",
            "Epoch 72/150\n",
            "382/382 [==============================] - 1s 2ms/step - loss: 30586.9570 - val_loss: 30885.1797\n",
            "Epoch 73/150\n",
            "382/382 [==============================] - 1s 2ms/step - loss: 30568.2832 - val_loss: 30988.1582\n",
            "Epoch 74/150\n",
            "382/382 [==============================] - 1s 2ms/step - loss: 30603.6133 - val_loss: 31069.2285\n",
            "Epoch 75/150\n",
            "382/382 [==============================] - 1s 2ms/step - loss: 30610.1758 - val_loss: 30913.2246\n",
            "Epoch 76/150\n",
            "382/382 [==============================] - 1s 2ms/step - loss: 30643.3789 - val_loss: 30924.5801\n",
            "Epoch 77/150\n",
            "382/382 [==============================] - 1s 2ms/step - loss: 30514.6348 - val_loss: 30939.0234\n",
            "Epoch 78/150\n",
            "382/382 [==============================] - 1s 2ms/step - loss: 30553.6836 - val_loss: 30845.9805\n",
            "Epoch 79/150\n",
            "382/382 [==============================] - 1s 2ms/step - loss: 30505.8184 - val_loss: 30856.9473\n",
            "Epoch 80/150\n",
            "382/382 [==============================] - 1s 2ms/step - loss: 30540.7773 - val_loss: 30902.5977\n",
            "Epoch 81/150\n",
            "382/382 [==============================] - 1s 2ms/step - loss: 30519.4121 - val_loss: 31050.2305\n",
            "Epoch 82/150\n",
            "382/382 [==============================] - 1s 2ms/step - loss: 30528.1699 - val_loss: 31096.5801\n",
            "Epoch 83/150\n",
            "382/382 [==============================] - 1s 2ms/step - loss: 30584.8145 - val_loss: 31090.3945\n",
            "Epoch 84/150\n",
            "382/382 [==============================] - 1s 2ms/step - loss: 30494.9570 - val_loss: 31183.6152\n",
            "Epoch 85/150\n",
            "382/382 [==============================] - 1s 2ms/step - loss: 30576.3574 - val_loss: 31011.9746\n",
            "Epoch 86/150\n",
            "382/382 [==============================] - 1s 2ms/step - loss: 30432.1875 - val_loss: 30773.4102\n",
            "Epoch 87/150\n",
            "382/382 [==============================] - 1s 2ms/step - loss: 30375.9746 - val_loss: 30863.1621\n",
            "Epoch 88/150\n",
            "382/382 [==============================] - 1s 2ms/step - loss: 30519.6133 - val_loss: 31108.8066\n",
            "Epoch 89/150\n",
            "382/382 [==============================] - 1s 2ms/step - loss: 30498.1602 - val_loss: 30769.5762\n",
            "Epoch 90/150\n",
            "382/382 [==============================] - 1s 2ms/step - loss: 30452.9004 - val_loss: 30845.6465\n",
            "Epoch 91/150\n",
            "382/382 [==============================] - 1s 2ms/step - loss: 30456.8945 - val_loss: 30755.9551\n",
            "Epoch 92/150\n",
            "382/382 [==============================] - 1s 2ms/step - loss: 30373.2148 - val_loss: 31200.2539\n",
            "Epoch 93/150\n",
            "382/382 [==============================] - 1s 2ms/step - loss: 30405.5449 - val_loss: 30838.8730\n",
            "Epoch 94/150\n",
            "382/382 [==============================] - 1s 2ms/step - loss: 30416.1016 - val_loss: 31834.9492\n",
            "Epoch 95/150\n",
            "382/382 [==============================] - 1s 2ms/step - loss: 30452.5371 - val_loss: 30759.8945\n",
            "Epoch 96/150\n",
            "382/382 [==============================] - 1s 2ms/step - loss: 30424.1875 - val_loss: 32045.5273\n",
            "Epoch 97/150\n",
            "382/382 [==============================] - 1s 2ms/step - loss: 30592.0254 - val_loss: 30847.3730\n",
            "Epoch 98/150\n",
            "382/382 [==============================] - 1s 2ms/step - loss: 30361.6680 - val_loss: 31283.9609\n",
            "Epoch 99/150\n",
            "382/382 [==============================] - 1s 2ms/step - loss: 30375.4570 - val_loss: 30812.3613\n",
            "Epoch 100/150\n",
            "382/382 [==============================] - 1s 2ms/step - loss: 30412.2891 - val_loss: 31197.1543\n",
            "Epoch 101/150\n",
            "382/382 [==============================] - 1s 2ms/step - loss: 30410.3828 - val_loss: 30976.5586\n",
            "Epoch 102/150\n",
            "382/382 [==============================] - 1s 2ms/step - loss: 30390.0625 - val_loss: 30982.4980\n",
            "Epoch 103/150\n",
            "382/382 [==============================] - 1s 2ms/step - loss: 30380.8496 - val_loss: 31130.3516\n",
            "Epoch 104/150\n",
            "382/382 [==============================] - 1s 2ms/step - loss: 30440.7910 - val_loss: 31022.0527\n",
            "Epoch 105/150\n",
            "382/382 [==============================] - 1s 2ms/step - loss: 30413.2246 - val_loss: 30745.1699\n",
            "Epoch 106/150\n",
            "382/382 [==============================] - 1s 2ms/step - loss: 30429.0566 - val_loss: 31068.6641\n",
            "Epoch 107/150\n",
            "382/382 [==============================] - 1s 2ms/step - loss: 30387.8203 - val_loss: 30980.4863\n",
            "Epoch 108/150\n",
            "382/382 [==============================] - 1s 2ms/step - loss: 30338.4199 - val_loss: 31065.7188\n",
            "Epoch 109/150\n",
            "382/382 [==============================] - 1s 2ms/step - loss: 30439.4844 - val_loss: 30915.1230\n",
            "Epoch 110/150\n",
            "382/382 [==============================] - 1s 2ms/step - loss: 30362.6230 - val_loss: 30868.1094\n",
            "Epoch 111/150\n",
            "382/382 [==============================] - 1s 2ms/step - loss: 30445.2578 - val_loss: 31416.5195\n",
            "Epoch 112/150\n",
            "382/382 [==============================] - 1s 2ms/step - loss: 30447.4883 - val_loss: 30843.5938\n",
            "Epoch 113/150\n",
            "382/382 [==============================] - 1s 2ms/step - loss: 30333.9414 - val_loss: 30701.4160\n",
            "Epoch 114/150\n",
            "382/382 [==============================] - 1s 2ms/step - loss: 30328.2520 - val_loss: 30796.0801\n",
            "Epoch 115/150\n",
            "382/382 [==============================] - 1s 2ms/step - loss: 30490.5645 - val_loss: 31028.2422\n",
            "Epoch 116/150\n",
            "382/382 [==============================] - 1s 2ms/step - loss: 30478.5977 - val_loss: 30720.4336\n",
            "Epoch 117/150\n",
            "382/382 [==============================] - 1s 2ms/step - loss: 30301.0176 - val_loss: 30944.1855\n",
            "Epoch 118/150\n",
            "382/382 [==============================] - 1s 2ms/step - loss: 30446.9883 - val_loss: 30730.5801\n",
            "Epoch 119/150\n",
            "382/382 [==============================] - 1s 2ms/step - loss: 30438.6543 - val_loss: 30822.0312\n",
            "Epoch 120/150\n",
            "382/382 [==============================] - 1s 2ms/step - loss: 30392.1680 - val_loss: 31178.3672\n",
            "Epoch 121/150\n",
            "382/382 [==============================] - 1s 2ms/step - loss: 30427.9297 - val_loss: 30950.4746\n",
            "Epoch 122/150\n",
            "382/382 [==============================] - 1s 2ms/step - loss: 30455.7754 - val_loss: 31339.8398\n",
            "Epoch 123/150\n",
            "382/382 [==============================] - 1s 2ms/step - loss: 30337.3789 - val_loss: 30779.9902\n",
            "Epoch 124/150\n",
            "382/382 [==============================] - 1s 2ms/step - loss: 30338.7266 - val_loss: 31240.2891\n",
            "Epoch 125/150\n",
            "382/382 [==============================] - 1s 2ms/step - loss: 30450.1172 - val_loss: 30757.9922\n",
            "Epoch 126/150\n",
            "382/382 [==============================] - 1s 2ms/step - loss: 30434.9043 - val_loss: 30797.3828\n",
            "Epoch 127/150\n",
            "382/382 [==============================] - 1s 2ms/step - loss: 30345.0488 - val_loss: 31119.4453\n",
            "Epoch 128/150\n",
            "382/382 [==============================] - 1s 2ms/step - loss: 30583.3926 - val_loss: 30762.0449\n",
            "Epoch 129/150\n",
            "382/382 [==============================] - 1s 2ms/step - loss: 30413.5410 - val_loss: 30985.3145\n",
            "Epoch 130/150\n",
            "382/382 [==============================] - 1s 2ms/step - loss: 30315.7461 - val_loss: 30774.1816\n",
            "Epoch 131/150\n",
            "382/382 [==============================] - 1s 2ms/step - loss: 30300.9238 - val_loss: 31302.7715\n",
            "Epoch 132/150\n",
            "382/382 [==============================] - 1s 2ms/step - loss: 30427.3711 - val_loss: 30721.5664\n",
            "Epoch 133/150\n",
            "382/382 [==============================] - 1s 2ms/step - loss: 30311.2422 - val_loss: 30692.1699\n",
            "Epoch 134/150\n",
            "382/382 [==============================] - 1s 2ms/step - loss: 30385.2539 - val_loss: 31326.7930\n",
            "Epoch 135/150\n",
            "382/382 [==============================] - 1s 2ms/step - loss: 30369.3965 - val_loss: 31115.5293\n",
            "Epoch 136/150\n",
            "382/382 [==============================] - 1s 2ms/step - loss: 30345.4414 - val_loss: 30794.2500\n",
            "Epoch 137/150\n",
            "382/382 [==============================] - 1s 2ms/step - loss: 30433.6133 - val_loss: 30750.7832\n",
            "Epoch 138/150\n",
            "382/382 [==============================] - 1s 2ms/step - loss: 30330.4023 - val_loss: 31644.9785\n",
            "Epoch 139/150\n",
            "382/382 [==============================] - 1s 2ms/step - loss: 30374.7559 - val_loss: 30705.8789\n",
            "Epoch 140/150\n",
            "382/382 [==============================] - 1s 2ms/step - loss: 30309.7422 - val_loss: 30746.0469\n",
            "Epoch 141/150\n",
            "382/382 [==============================] - 1s 2ms/step - loss: 30322.2676 - val_loss: 30679.7734\n",
            "Epoch 142/150\n",
            "382/382 [==============================] - 1s 2ms/step - loss: 30421.8125 - val_loss: 30704.0781\n",
            "Epoch 143/150\n",
            "382/382 [==============================] - 1s 2ms/step - loss: 30326.6328 - val_loss: 30738.9395\n",
            "Epoch 144/150\n",
            "382/382 [==============================] - 1s 2ms/step - loss: 30341.1465 - val_loss: 30807.8906\n",
            "Epoch 145/150\n",
            "382/382 [==============================] - 1s 2ms/step - loss: 30407.2793 - val_loss: 30728.2266\n",
            "Epoch 146/150\n",
            "382/382 [==============================] - 1s 2ms/step - loss: 30302.0527 - val_loss: 30870.5078\n",
            "Epoch 147/150\n",
            "382/382 [==============================] - 1s 2ms/step - loss: 30416.9082 - val_loss: 30775.8184\n",
            "Epoch 148/150\n",
            "382/382 [==============================] - 1s 2ms/step - loss: 30310.6348 - val_loss: 31085.1211\n",
            "Epoch 149/150\n",
            "382/382 [==============================] - 1s 2ms/step - loss: 30494.2891 - val_loss: 30713.3750\n",
            "Epoch 150/150\n",
            "382/382 [==============================] - 1s 2ms/step - loss: 30428.6875 - val_loss: 31278.2871\n"
          ]
        },
        {
          "output_type": "execute_result",
          "data": {
            "text/plain": [
              "<keras.callbacks.History at 0x7f3d5c0e4b10>"
            ]
          },
          "metadata": {},
          "execution_count": 167
        }
      ]
    },
    {
      "cell_type": "code",
      "metadata": {
        "id": "StuJchgoqlRD",
        "colab": {
          "base_uri": "https://localhost:8080/",
          "height": 339
        },
        "outputId": "d06efe2b-d579-4ecf-c092-1f666cfa94f2"
      },
      "source": [
        "loss = pd.DataFrame(model.history.history)\n",
        "plt.figure(figsize=(15,5))\n",
        "sns.lineplot(data = loss, lw=3)\n",
        "plt.xlabel('Epocas')\n",
        "sns.despine()"
      ],
      "execution_count": 168,
      "outputs": [
        {
          "output_type": "display_data",
          "data": {
            "image/png": "[encoded data removed]",
            "text/plain": [
              "<Figure size 1080x360 with 1 Axes>"
            ]
          },
          "metadata": {}
        }
      ]
    },
    {
      "cell_type": "markdown",
      "metadata": {
        "id": "q5xC6HhEK_1O"
      },
      "source": [
        "Train"
      ]
    },
    {
      "cell_type": "code",
      "metadata": {
        "colab": {
          "base_uri": "https://localhost:8080/"
        },
        "id": "CopcHwl3K_1O",
        "outputId": "1bea51c6-bd39-4ded-b513-49b4da087df1"
      },
      "source": [
        "y_pred_train = model.predict(x_train)\n",
        "Resultados_train.append(r2_score(y_train, model.predict(x_train)))\n",
        "Resultados_train_mae.append(mean_absolute_error(y_train, model.predict(x_train)))\n",
        "print(r2_score(y_train, y_pred_train))\n",
        "print(mean_absolute_error(y_train, y_pred_train))"
      ],
      "execution_count": 169,
      "outputs": [
        {
          "output_type": "stream",
          "name": "stdout",
          "text": [
            "0.6902965501901102\n",
            "111.05988763338034\n"
          ]
        }
      ]
    },
    {
      "cell_type": "markdown",
      "metadata": {
        "id": "ARZqS7jwLOOC"
      },
      "source": [
        "Test"
      ]
    },
    {
      "cell_type": "code",
      "metadata": {
        "colab": {
          "base_uri": "https://localhost:8080/"
        },
        "id": "JLQAnRNQLOOD",
        "outputId": "98ed4217-f09d-404d-ac4e-a8b949b8dc08"
      },
      "source": [
        "y_pred_test = model.predict(x_test)\n",
        "Resultados_test.append(r2_score(y_test, model.predict(x_test)))\n",
        "Resultados_test_mae.append(mean_absolute_error(y_test, model.predict(x_test)))\n",
        "print(r2_score(y_test, y_pred_test))\n",
        "print(mean_absolute_error(y_test, y_pred_test))"
      ],
      "execution_count": 170,
      "outputs": [
        {
          "output_type": "stream",
          "name": "stdout",
          "text": [
            "0.6890531005384672\n",
            "112.92053859746483\n"
          ]
        }
      ]
    },
    {
      "cell_type": "markdown",
      "metadata": {
        "id": "71j3FdieRpHc"
      },
      "source": [
        "SVM"
      ]
    },
    {
      "cell_type": "code",
      "metadata": {
        "colab": {
          "base_uri": "https://localhost:8080/"
        },
        "id": "wIO-TSeRUrNR",
        "outputId": "29281c51-f8c4-4dc0-df32-c3b3b964f4bd"
      },
      "source": [
        "svm = SVR(kernel='linear', verbose=True)\n",
        "svm.fit(x_train,y_train)"
      ],
      "execution_count": 171,
      "outputs": [
        {
          "output_type": "stream",
          "name": "stdout",
          "text": [
            "[LibSVM]"
          ]
        },
        {
          "output_type": "execute_result",
          "data": {
            "text/plain": [
              "SVR(C=100, cache_size=200, coef0=0.0, degree=3, epsilon=0.1, gamma='scale',\n",
              "    kernel='linear', max_iter=-1, shrinking=True, tol=0.001, verbose=True)"
            ]
          },
          "metadata": {},
          "execution_count": 171
        }
      ]
    },
    {
      "cell_type": "markdown",
      "metadata": {
        "id": "10k-9DC7nInn"
      },
      "source": [
        "Train"
      ]
    },
    {
      "cell_type": "code",
      "metadata": {
        "colab": {
          "base_uri": "https://localhost:8080/"
        },
        "id": "tvnsGBjsnInn",
        "outputId": "6caf6b14-9b6c-4111-9c4f-c694e0391022"
      },
      "source": [
        "y_pred_train = svm.predict(x_train)\n",
        "Resultados_train.append(r2_score(y_train, svm.predict(x_train)))\n",
        "Resultados_train_mae.append(mean_absolute_error(y_train, svm.predict(x_train)))\n",
        "print(r2_score(y_train, y_pred_train))\n",
        "print(mean_absolute_error(y_train, y_pred_train))"
      ],
      "execution_count": 172,
      "outputs": [
        {
          "output_type": "stream",
          "name": "stdout",
          "text": [
            "0.6182847505698907\n",
            "145.1085544846053\n"
          ]
        }
      ]
    },
    {
      "cell_type": "markdown",
      "metadata": {
        "id": "hWrf5kl2nIno"
      },
      "source": [
        "Test"
      ]
    },
    {
      "cell_type": "code",
      "metadata": {
        "colab": {
          "base_uri": "https://localhost:8080/"
        },
        "id": "BU1WXBNXnIno",
        "outputId": "0f95b90d-e408-45bc-f514-4789270bfaa3"
      },
      "source": [
        "y_pred_test = svm.predict(x_test)\n",
        "Resultados_test.append(r2_score(y_test, svm.predict(x_test)))\n",
        "Resultados_test_mae.append(mean_absolute_error(y_test, svm.predict(x_test)))\n",
        "print(r2_score(y_test, y_pred_test))\n",
        "print(mean_absolute_error(y_test, y_pred_test))"
      ],
      "execution_count": 173,
      "outputs": [
        {
          "output_type": "stream",
          "name": "stdout",
          "text": [
            "0.6191240685329091\n",
            "146.51800178902516\n"
          ]
        }
      ]
    },
    {
      "cell_type": "markdown",
      "metadata": {
        "id": "Deg7VwQS9UO4"
      },
      "source": [
        "KNN"
      ]
    },
    {
      "cell_type": "code",
      "metadata": {
        "id": "kJsVH-LDVcBo"
      },
      "source": [
        "error =[]\n",
        "\n",
        "for n in range(1,10):\n",
        "  knn = KNeighborsRegressor(n_neighbors= n)\n",
        "  knn.fit(x_train, y_train)\n",
        "  predic_n = knn.predict(x_test)\n",
        "  error.append(np.mean(predic_n != y_test))"
      ],
      "execution_count": 174,
      "outputs": []
    },
    {
      "cell_type": "code",
      "metadata": {
        "colab": {
          "base_uri": "https://localhost:8080/",
          "height": 394
        },
        "id": "8kEH4dWPVeMj",
        "outputId": "28116e51-1670-47e4-9e34-1dae4644c35a"
      },
      "source": [
        "plt.figure(figsize=(15,6))\n",
        "plt.plot(range(1,10), error, color = 'b', linestyle= 'dashed', marker = 'o', markerfacecolor= 'r', markersize= '8')"
      ],
      "execution_count": 175,
      "outputs": [
        {
          "output_type": "execute_result",
          "data": {
            "text/plain": [
              "[<matplotlib.lines.Line2D at 0x7f3d5bfd8550>]"
            ]
          },
          "metadata": {},
          "execution_count": 175
        },
        {
          "output_type": "display_data",
          "data": {
            "image/png": "[encoded data removed]",
            "text/plain": [
              "<Figure size 1080x432 with 1 Axes>"
            ]
          },
          "metadata": {}
        }
      ]
    },
    {
      "cell_type": "code",
      "metadata": {
        "colab": {
          "base_uri": "https://localhost:8080/"
        },
        "id": "2ovXOfLwNkvB",
        "outputId": "1eea5e81-763a-4785-97c5-84d693591b2a"
      },
      "source": [
        "knn_c = KNeighborsRegressor(n_neighbors=2)\n",
        "knn_c.fit(x_train,y_train)"
      ],
      "execution_count": 176,
      "outputs": [
        {
          "output_type": "execute_result",
          "data": {
            "text/plain": [
              "KNeighborsRegressor(algorithm='auto', leaf_size=30, metric='minkowski',\n",
              "                    metric_params=None, n_jobs=None, n_neighbors=2, p=2,\n",
              "                    weights='uniform')"
            ]
          },
          "metadata": {},
          "execution_count": 176
        }
      ]
    },
    {
      "cell_type": "markdown",
      "metadata": {
        "id": "1YT3-_opn3HJ"
      },
      "source": [
        "Train"
      ]
    },
    {
      "cell_type": "code",
      "metadata": {
        "colab": {
          "base_uri": "https://localhost:8080/"
        },
        "id": "RH2vTr5_n3HJ",
        "outputId": "3d9d7ff9-e09f-4594-d60c-efe6447d65b8"
      },
      "source": [
        "y_pred_train = knn_c.predict(x_train)\n",
        "Resultados_train.append(r2_score(y_train, knn_c.predict(x_train)))\n",
        "Resultados_train_mae.append(mean_absolute_error(y_train, knn_c.predict(x_train)))\n",
        "print(r2_score(y_train, y_pred_train))\n",
        "print(mean_absolute_error(y_train, y_pred_train))"
      ],
      "execution_count": 177,
      "outputs": [
        {
          "output_type": "stream",
          "name": "stdout",
          "text": [
            "0.9271534045579846\n",
            "39.42588548951048\n"
          ]
        }
      ]
    },
    {
      "cell_type": "markdown",
      "metadata": {
        "id": "2qOECF0ln3HK"
      },
      "source": [
        "Test"
      ]
    },
    {
      "cell_type": "code",
      "metadata": {
        "colab": {
          "base_uri": "https://localhost:8080/"
        },
        "id": "HPYybLMQn3HK",
        "outputId": "a6a17603-4a36-4f71-ba6f-bac9156119a1"
      },
      "source": [
        "y_pred_test = knn_c.predict(x_test)\n",
        "Resultados_test.append(r2_score(y_test, knn_c.predict(x_test)))\n",
        "Resultados_test_mae.append(mean_absolute_error(y_test, knn_c.predict(x_test)))\n",
        "print(r2_score(y_test, y_pred_test))\n",
        "print(mean_absolute_error(y_test, y_pred_test))"
      ],
      "execution_count": 178,
      "outputs": [
        {
          "output_type": "stream",
          "name": "stdout",
          "text": [
            "0.7671700597425674\n",
            "74.02762594330002\n"
          ]
        }
      ]
    },
    {
      "cell_type": "markdown",
      "metadata": {
        "id": "ehOaJto9vtaU"
      },
      "source": [
        "RandomForest"
      ]
    },
    {
      "cell_type": "code",
      "metadata": {
        "colab": {
          "base_uri": "https://localhost:8080/"
        },
        "id": "CrODgAIOt2Xx",
        "outputId": "3257fcb6-3194-4bb8-b835-d89f740d2981"
      },
      "source": [
        "modelRF = RandomForestRegressor(n_estimators=20)\n",
        "modelRF.fit(x_train, y_train)"
      ],
      "execution_count": 179,
      "outputs": [
        {
          "output_type": "execute_result",
          "data": {
            "text/plain": [
              "RandomForestRegressor(bootstrap=True, ccp_alpha=0.0, criterion='mse',\n",
              "                      max_depth=None, max_features='auto', max_leaf_nodes=None,\n",
              "                      max_samples=None, min_impurity_decrease=0.0,\n",
              "                      min_impurity_split=None, min_samples_leaf=1,\n",
              "                      min_samples_split=2, min_weight_fraction_leaf=0.0,\n",
              "                      n_estimators=20, n_jobs=None, oob_score=False,\n",
              "                      random_state=None, verbose=0, warm_start=False)"
            ]
          },
          "metadata": {},
          "execution_count": 179
        }
      ]
    },
    {
      "cell_type": "markdown",
      "metadata": {
        "id": "CaRJGrE7JSMH"
      },
      "source": [
        "Train"
      ]
    },
    {
      "cell_type": "code",
      "metadata": {
        "id": "YeK1A339oN14",
        "colab": {
          "base_uri": "https://localhost:8080/"
        },
        "outputId": "7ab6bf61-351d-44fa-b127-006170ac85e4"
      },
      "source": [
        "y_pred_train = modelRF.predict(x_train)\n",
        "Resultados_train.append(r2_score(y_train, modelRF.predict(x_train)))\n",
        "Resultados_train_mae.append(mean_absolute_error(y_train, modelRF.predict(x_train)))\n",
        "print(r2_score(y_train, y_pred_train))\n",
        "print(mean_absolute_error(y_train, y_pred_train))"
      ],
      "execution_count": 180,
      "outputs": [
        {
          "output_type": "stream",
          "name": "stdout",
          "text": [
            "0.9875420678992516\n",
            "14.114046067127317\n"
          ]
        }
      ]
    },
    {
      "cell_type": "markdown",
      "metadata": {
        "id": "pGkUuLdlJUs5"
      },
      "source": [
        "Test"
      ]
    },
    {
      "cell_type": "code",
      "metadata": {
        "colab": {
          "base_uri": "https://localhost:8080/"
        },
        "id": "44F1W-vBIk1K",
        "outputId": "d1ebaaae-41a2-470a-809a-a4dfa0a246bc"
      },
      "source": [
        "y_pred_test = modelRF.predict(x_test)\n",
        "Resultados_test.append(r2_score(y_test, modelRF.predict(x_test)))\n",
        "Resultados_test_mae.append(mean_absolute_error(y_test, modelRF.predict(x_test)))\n",
        "print(r2_score(y_test, y_pred_test))\n",
        "print(mean_absolute_error(y_test, y_pred_test))"
      ],
      "execution_count": 181,
      "outputs": [
        {
          "output_type": "stream",
          "name": "stdout",
          "text": [
            "0.9252145492744065\n",
            "36.41791404058173\n"
          ]
        }
      ]
    },
    {
      "cell_type": "code",
      "metadata": {
        "id": "pp-F3I3DSxIC"
      },
      "source": [
        "import pickle\n",
        "filename = 'modelRF.h5'\n",
        "pickle.dump(modelRF, open(filename, 'wb'))"
      ],
      "execution_count": 127,
      "outputs": []
    },
    {
      "cell_type": "code",
      "metadata": {
        "colab": {
          "base_uri": "https://localhost:8080/"
        },
        "id": "ssh_N5sENnmt",
        "outputId": "b12c9a9d-b9b2-41a3-c8b5-18eedb735bc0"
      },
      "source": [
        "dato1 = data_aux.drop('Radiation', axis=1).iloc[10]\n",
        "dato1"
      ],
      "execution_count": 136,
      "outputs": [
        {
          "output_type": "execute_result",
          "data": {
            "text/plain": [
              "Temperature                49.00\n",
              "Pressure                   30.47\n",
              "Humidity                   93.00\n",
              "WindDirection(Degrees)    120.55\n",
              "Speed                       2.25\n",
              "mes                         9.00\n",
              "hora                       23.00\n",
              "diferencia                720.00\n",
              "Name: 10, dtype: float64"
            ]
          },
          "metadata": {},
          "execution_count": 136
        }
      ]
    },
    {
      "cell_type": "code",
      "metadata": {
        "colab": {
          "base_uri": "https://localhost:8080/"
        },
        "id": "IRzO9P0EZ8yC",
        "outputId": "709d445b-29cb-4a5a-8eb0-d35d91e4f091"
      },
      "source": [
        "dato2 = data_aux.drop('Radiation', axis=1).iloc[120]\n",
        "dato2"
      ],
      "execution_count": 151,
      "outputs": [
        {
          "output_type": "execute_result",
          "data": {
            "text/plain": [
              "Temperature                62.00\n",
              "Pressure                   30.43\n",
              "Humidity                   47.00\n",
              "WindDirection(Degrees)    346.87\n",
              "Speed                       5.62\n",
              "mes                         9.00\n",
              "hora                       13.00\n",
              "diferencia                720.00\n",
              "Name: 120, dtype: float64"
            ]
          },
          "metadata": {},
          "execution_count": 151
        }
      ]
    },
    {
      "cell_type": "code",
      "metadata": {
        "id": "5vLWGLkNMIq2"
      },
      "source": [
        "print('Valor Real: ', data_aux.iloc[120]['Radiation'])"
      ],
      "execution_count": null,
      "outputs": []
    },
    {
      "cell_type": "code",
      "metadata": {
        "id": "CNM0UT5gT8DV"
      },
      "source": [
        "modelo = pickle.load(open(\"modelRF.h5\", 'rb'))"
      ],
      "execution_count": 134,
      "outputs": []
    },
    {
      "cell_type": "code",
      "metadata": {
        "id": "DVl9TWr_QB1O"
      },
      "source": [
        "print('Valore Predicccion: ',modelRF.predict(dato2.values.reshape(1,8)))"
      ],
      "execution_count": null,
      "outputs": []
    },
    {
      "cell_type": "markdown",
      "metadata": {
        "id": "kfKBilAfkAdr"
      },
      "source": [
        "**RESULTADOS**"
      ]
    },
    {
      "cell_type": "code",
      "metadata": {
        "id": "aqDx39qghq95"
      },
      "source": [
        "Resultados=pd.DataFrame({\"model\":['Linear Regression', 'ANN', 'SVR','KNN', 'RandomForest'],\n",
        "                   \"r2Train\":[Resultados_train[0],Resultados_train[1],Resultados_train[2],Resultados_train[3],Resultados_train[4]],\n",
        "                   \"maeTrain\":[Resultados_train_mae[0],Resultados_train_mae[1],Resultados_train_mae[2],Resultados_train_mae[3],Resultados_train_mae[4]],\n",
        "                   \"r2Test\":[Resultados_test[0],Resultados_test[1],Resultados_test[2],Resultados_test[3],Resultados_test[4]],\n",
        "                   \"maeTest\":[Resultados_test_mae[0],Resultados_test_mae[1],Resultados_test_mae[2],Resultados_test_mae[3],Resultados_test_mae[4]]\n",
        "                   })"
      ],
      "execution_count": 182,
      "outputs": []
    },
    {
      "cell_type": "markdown",
      "metadata": {
        "id": "a4yh1wViZyCC"
      },
      "source": [
        "**PRESENTACION DE RESULTADOS**"
      ]
    },
    {
      "cell_type": "markdown",
      "metadata": {
        "id": "xtUP41-iZ1ux"
      },
      "source": [
        "**Modelos**"
      ]
    },
    {
      "cell_type": "code",
      "metadata": {
        "colab": {
          "base_uri": "https://localhost:8080/",
          "height": 204
        },
        "id": "qacT--4Zpg46",
        "outputId": "bdfbc017-3975-4d00-a916-af200f79bc05"
      },
      "source": [
        "Resultados"
      ],
      "execution_count": 183,
      "outputs": [
        {
          "output_type": "execute_result",
          "data": {
            "text/html": [
              "<div>\n",
              "<style scoped>\n",
              "    .dataframe tbody tr th:only-of-type {\n",
              "        vertical-align: middle;\n",
              "    }\n",
              "\n",
              "    .dataframe tbody tr th {\n",
              "        vertical-align: top;\n",
              "    }\n",
              "\n",
              "    .dataframe thead th {\n",
              "        text-align: right;\n",
              "    }\n",
              "</style>\n",
              "<table border=\"1\" class=\"dataframe\">\n",
              "  <thead>\n",
              "    <tr style=\"text-align: right;\">\n",
              "      <th></th>\n",
              "      <th>model</th>\n",
              "      <th>r2Train</th>\n",
              "      <th>maeTrain</th>\n",
              "      <th>r2Test</th>\n",
              "      <th>maeTest</th>\n",
              "    </tr>\n",
              "  </thead>\n",
              "  <tbody>\n",
              "    <tr>\n",
              "      <th>0</th>\n",
              "      <td>Linear Regression</td>\n",
              "      <td>0.621379</td>\n",
              "      <td>147.037271</td>\n",
              "      <td>0.622251</td>\n",
              "      <td>148.476604</td>\n",
              "    </tr>\n",
              "    <tr>\n",
              "      <th>1</th>\n",
              "      <td>ANN</td>\n",
              "      <td>0.690297</td>\n",
              "      <td>111.059888</td>\n",
              "      <td>0.689053</td>\n",
              "      <td>112.920539</td>\n",
              "    </tr>\n",
              "    <tr>\n",
              "      <th>2</th>\n",
              "      <td>SVR</td>\n",
              "      <td>0.618285</td>\n",
              "      <td>145.108554</td>\n",
              "      <td>0.619124</td>\n",
              "      <td>146.518002</td>\n",
              "    </tr>\n",
              "    <tr>\n",
              "      <th>3</th>\n",
              "      <td>KNN</td>\n",
              "      <td>0.927153</td>\n",
              "      <td>39.425885</td>\n",
              "      <td>0.767170</td>\n",
              "      <td>74.027626</td>\n",
              "    </tr>\n",
              "    <tr>\n",
              "      <th>4</th>\n",
              "      <td>RandomForest</td>\n",
              "      <td>0.987542</td>\n",
              "      <td>14.114046</td>\n",
              "      <td>0.925215</td>\n",
              "      <td>36.417914</td>\n",
              "    </tr>\n",
              "  </tbody>\n",
              "</table>\n",
              "</div>"
            ],
            "text/plain": [
              "               model   r2Train    maeTrain    r2Test     maeTest\n",
              "0  Linear Regression  0.621379  147.037271  0.622251  148.476604\n",
              "1                ANN  0.690297  111.059888  0.689053  112.920539\n",
              "2                SVR  0.618285  145.108554  0.619124  146.518002\n",
              "3                KNN  0.927153   39.425885  0.767170   74.027626\n",
              "4       RandomForest  0.987542   14.114046  0.925215   36.417914"
            ]
          },
          "metadata": {},
          "execution_count": 183
        }
      ]
    }
  ]
}